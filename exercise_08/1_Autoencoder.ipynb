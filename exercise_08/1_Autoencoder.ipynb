{
 "cells": [
  {
   "attachments": {},
   "cell_type": "markdown",
   "metadata": {
    "id": "9CALuVmNMNkM"
   },
   "source": [
    "# Autoencoder for MNIST\n",
    "\n",
    "Welcome to this notebook where you'll be training an autoencoder using the MNIST dataset, which comprises handwritten digits. This exercise is the last where we present you with a structured skeleton to work with. However, in following exercises, we will only provide you with the dataset, task, and a test scenario, enabling you to test your skills and compete with your peers on our leaderboards. Get ready to dive in and showcase your deep learning expertise!\n",
    "\n",
    "\n",
    "## Your task:\n",
    "\n",
    "Autoencoders have various applications, including unsupervised pretraining using unlabeled data, followed by fine-tuning the encoder with labeled data. This approach can greatly enhance performance when there is only a little amount of labeled data but a lot of unlabeled data available.\n",
    "\n",
    "In this exercise, you will use the MNIST dataset, consisting of 60,000 images of handwritten digits. However, not all the image labels are available to you. Your first objective is to train an autoencoder to accurately reproduce these unlabeled images.\n",
    "\n",
    "Afterwards, you will transfer the weights of the pretrained encoder and perform fine-tuning on a classifier using the available labeled data. This technique is commonly known as **transfer learning**, which allows you to leverage the knowledge gained from the autoencoder to improve the classification of the handwritten digits."
   ]
  },
  {
   "cell_type": "code",
   "execution_count": 86,
   "metadata": {
    "id": "XcU9f4APMNkT"
   },
   "outputs": [
    {
     "name": "stdout",
     "output_type": "stream",
     "text": [
      "The autoreload extension is already loaded. To reload it, use:\n",
      "  %reload_ext autoreload\n"
     ]
    }
   ],
   "source": [
    "# For automatic file reloading as usual\n",
    "%load_ext autoreload\n",
    "%autoreload 2\n",
    "%matplotlib inline"
   ]
  },
  {
   "attachments": {},
   "cell_type": "markdown",
   "metadata": {
    "id": "Xb9dFU2EMNkW"
   },
   "source": [
    "## (Optional) Mount folder in Colab\n",
    "\n",
    "Uncomment the following cell to mount your gdrive if you are using the notebook in google colab:"
   ]
  },
  {
   "cell_type": "code",
   "execution_count": 87,
   "metadata": {
    "id": "TRr4E4YVMNkW"
   },
   "outputs": [
    {
     "data": {
      "text/plain": [
       "\"\\nfrom google.colab import drive\\nimport os\\ngdrive_path='/content/gdrive/MyDrive/i2dl/exercise_08'\\n\\n# This will mount your google drive under 'MyDrive'\\ndrive.mount('/content/gdrive', force_remount=True)\\n# In order to access the files in this notebook we have to navigate to the correct folder\\nos.chdir(gdrive_path)\\n# Check manually if all files are present\\n\""
      ]
     },
     "execution_count": 87,
     "metadata": {},
     "output_type": "execute_result"
    }
   ],
   "source": [
    "# Use the following lines if you want to use Google Colab\n",
    "# We presume you created a folder \"i2dl\" within your main drive folder, and put the exercise there.\n",
    "# NOTE: terminate all other colab sessions that use GPU!\n",
    "# NOTE 2: Make sure the correct exercise folder (e.g exercise_08) is given.\n",
    "\n",
    "# from google.colab import drive\n",
    "# import os\n",
    "\n",
    "\"\"\"\n",
    "from google.colab import drive\n",
    "import os\n",
    "gdrive_path='/content/gdrive/MyDrive/i2dl/exercise_08'\n",
    "\n",
    "# This will mount your google drive under 'MyDrive'\n",
    "drive.mount('/content/gdrive', force_remount=True)\n",
    "# In order to access the files in this notebook we have to navigate to the correct folder\n",
    "os.chdir(gdrive_path)\n",
    "# Check manually if all files are present\n",
    "\"\"\""
   ]
  },
  {
   "attachments": {},
   "cell_type": "markdown",
   "metadata": {
    "id": "JzDQg-kDMNkY"
   },
   "source": [
    "### Set up PyTorch environment in colab\n",
    "- (OPTIONAL) Enable GPU via Runtime --> Change runtime type --> GPU\n",
    "- Uncomment the following cell if you are using the notebook in google colab:"
   ]
  },
  {
   "cell_type": "code",
   "execution_count": 88,
   "metadata": {
    "id": "pIUdsXeXMNkZ"
   },
   "outputs": [],
   "source": [
    "# Optional: install correct libraries in google colab\n",
    "# !python -m pip install torch==2.0.1+cu118 torchvision==0.15.2+cu118 torchaudio==2.0.2+cu118 torchtext==0.15.2 -f https://download.pytorch.org/whl/torch_stable.html\n",
    "# !python -m pip install tensorboard\n",
    "# !python -m pip install pytorch-lightning"
   ]
  },
  {
   "attachments": {},
   "cell_type": "markdown",
   "metadata": {
    "id": "hEDWAZ7-ZA4E"
   },
   "source": [
    "# Imports"
   ]
  },
  {
   "cell_type": "code",
   "execution_count": 89,
   "metadata": {
    "id": "dJCiVLV5o9QO",
    "scrolled": true
   },
   "outputs": [],
   "source": [
    "import numpy as np\n",
    "import matplotlib.pyplot as plt\n",
    "from pathlib import Path\n",
    "import os, sys\n",
    "import shutil\n",
    "import torch\n",
    "import torch.nn as nn\n",
    "from torchvision import transforms\n",
    "from exercise_code.image_folder_dataset import ImageFolderDataset\n",
    "from torch.utils.tensorboard import SummaryWriter\n",
    "from time import sleep\n",
    "from tqdm import tqdm\n",
    "from exercise_code.tests.base_tests import bcolors\n",
    "\n",
    "torch.manual_seed(42)\n",
    "\n",
    "os.environ['KMP_DUPLICATE_LIB_OK']='True' # To prevent the kernel from dying."
   ]
  },
  {
   "attachments": {},
   "cell_type": "markdown",
   "metadata": {
    "id": "dvaj6myXS7nN"
   },
   "source": [
    "<div class=\"alert alert-warning\">\n",
    "    <h3>Note: Google Colab</h3>\n",
    "    <p>\n",
    "In case you don't have a GPU, you can run this notebook on Google Colab where you can access a GPU for free, but, of course, you can also run this notebook on your CPU.\n",
    "         </p>\n",
    "</div>"
   ]
  },
  {
   "cell_type": "code",
   "execution_count": 90,
   "metadata": {
    "id": "VWgm75NnS9hr",
    "scrolled": true
   },
   "outputs": [
    {
     "name": "stdout",
     "output_type": "stream",
     "text": [
      "You are using the following device:  cuda:0\n"
     ]
    }
   ],
   "source": [
    "# This will set the device on which to run the code, which defaults to the CPU.\n",
    "# If you have an Nvidia GPU, it will use that with cuda\n",
    "# For Apple Silicon, you can try to use the \"mps\" device by commenting in line 8.\n",
    "#  But it is not guaranteed to work and sometimes the CPU performs better.\n",
    "\n",
    "device = torch.device(\n",
    "    \"cuda:0\" if torch.cuda.is_available() else \n",
    "    \"mps\" if torch.backends.mps.is_available() else \n",
    "    \"cpu\"\n",
    ")\n",
    "\n",
    "print('You are using the following device: ', device)"
   ]
  },
  {
   "attachments": {},
   "cell_type": "markdown",
   "metadata": {
    "id": "Pm_rTAPnpsUo"
   },
   "source": [
    "## Setup TensorBoard\n",
    "\n",
    "In the previous exercise (Exercise 07), you learned how to use TensorBoard effectively. Let's use it again to enhance the convenience of debugging your network and the training process. Throughout this notebook, feel free to implement additional logs or visualizations into your TensorBoard, further improving your analysis and understanding of the network's behavior. "
   ]
  },
  {
   "cell_type": "code",
   "execution_count": 91,
   "metadata": {
    "id": "QbAJFyHkMNke"
   },
   "outputs": [],
   "source": [
    "################# COLAB ONLY #################\n",
    "# %load_ext tensorboard\n",
    "# %tensorboard --logdir=./ --port 6006\n",
    "\n",
    "# Use the cmd for less trouble, if you can. From the working directory, run: tensorboard --logdir=./ --port 6006"
   ]
  },
  {
   "attachments": {},
   "cell_type": "markdown",
   "metadata": {
    "id": "t-Yt2KRiMNkf"
   },
   "source": [
    "# 1. The MNIST Dataset\n",
    "\n",
    "First, let's download the MNIST dataset. As mentioned at the beginning of this notebook, MNIST is a dataset of 60,000 images depicting handwritten digits. However, labeling such a large dataset can be a costly process, leaving us in a challenging situation.\n",
    "\n",
    "To overcome this, a practical approach is to label a small subset of the images. Let's consider a scenario where you have hired another student to perform the labeling task for you. After some time, you have been provided with 300 labeled images. Out of these, 100 images will be used for training, another 100 for validation, and the remaining 100 for testing. Undoubtedly, this poses a challenge due to the limited number of labeled samples.\n",
    "\n",
    "Now, you have the flexibility to define any transforms that you deem necessary, either at this point or at a later stage. However, it's important to note that during the final evaluation on the server, no transformations will be applied to the test set.\n",
    "\n",
    "Feel free to experiment with various transforms as you proceed (you can also pass without any transforms). \n",
    "\n",
    "\n",
    "**Note**: We do **not** apply any transformations or normalization to the test set at the time of final evaluation on our server."
   ]
  },
  {
   "cell_type": "code",
   "execution_count": 92,
   "metadata": {
    "id": "U5_eopjbMNkf",
    "pycharm": {
     "name": "#%%\n"
    },
    "scrolled": true
   },
   "outputs": [
    {
     "name": "stdout",
     "output_type": "stream",
     "text": [
      "Found dataset folder. Skipped downloading. If you face issues, please re-download the dataset using\n",
      "'--force_download=True'\n",
      "https://i2dl.vc.in.tum.de/static/data/mnist.zip\n",
      "Found dataset folder. Skipped downloading. If you face issues, please re-download the dataset using\n",
      "'--force_download=True'\n",
      "https://i2dl.vc.in.tum.de/static/data/mnist.zip\n",
      "Found dataset folder. Skipped downloading. If you face issues, please re-download the dataset using\n",
      "'--force_download=True'\n",
      "https://i2dl.vc.in.tum.de/static/data/mnist.zip\n",
      "Found dataset folder. Skipped downloading. If you face issues, please re-download the dataset using\n",
      "'--force_download=True'\n",
      "https://i2dl.vc.in.tum.de/static/data/mnist.zip\n",
      "Found dataset folder. Skipped downloading. If you face issues, please re-download the dataset using\n",
      "'--force_download=True'\n",
      "https://i2dl.vc.in.tum.de/static/data/mnist.zip\n"
     ]
    }
   ],
   "source": [
    "transform = transforms.Compose([])\n",
    "\n",
    "########################################################################\n",
    "# TODO: Feel free to define transforms (Only data augmentation)        #\n",
    "########################################################################\n",
    "\n",
    "\n",
    "\n",
    "########################################################################\n",
    "#                           END OF YOUR CODE                           #\n",
    "########################################################################\n",
    "\n",
    "i2dl_exercises_path = os.path.dirname(os.path.abspath(os.getcwd()))\n",
    "mnist_root = os.path.join(i2dl_exercises_path, \"datasets\", \"mnist\")\n",
    "\n",
    "train_100_dataset = ImageFolderDataset(root=mnist_root,images='train_images.pt',labels='train_labels.pt',force_download=False,verbose=True,transform=transform)\n",
    "val_100_dataset = ImageFolderDataset(root=mnist_root,images='val_images.pt',labels='val_labels.pt',force_download=False,verbose=True,transform=transform)\n",
    "test_100_dataset = ImageFolderDataset(root=mnist_root,images='test_images.pt',labels='test_labels.pt',force_download=False,verbose=True,transform=transform)\n",
    "\n",
    "# We also set up the unlabeled images which we will use later\n",
    "unlabeled_train = ImageFolderDataset(root=mnist_root,images='unlabeled_train_images.pt',force_download=False,verbose=True,transform=transform)\n",
    "unlabeled_val = ImageFolderDataset(root=mnist_root,images='unlabeled_val_images.pt',force_download=False,verbose=True,transform=transform)\n",
    "\n"
   ]
  },
  {
   "attachments": {},
   "cell_type": "markdown",
   "metadata": {
    "id": "zwrT1ckAMNkg"
   },
   "source": [
    "The dataset consists of tuples of 28x28 pixel PIL images and a label that is an integer from 0 to 9. \n",
    "\n",
    "Let's turn a few of the images into numpy arrays, to look at their shape and visualize them and see if the labels we paid for are correct."
   ]
  },
  {
   "cell_type": "code",
   "execution_count": 93,
   "metadata": {
    "id": "k7ct1J2CMNkh"
   },
   "outputs": [
    {
     "name": "stdout",
     "output_type": "stream",
     "text": [
      "The shape of our greyscale images:  (28, 28)\n"
     ]
    },
    {
     "data": {
      "image/png": "[encoded data removed]",
      "text/plain": [
       "<Figure size 1600x1600 with 10 Axes>"
      ]
     },
     "metadata": {},
     "output_type": "display_data"
    }
   ],
   "source": [
    "plt.rcParams['figure.figsize'] = (16,16) # Make the figures a bit bigger\n",
    "\n",
    "indices_arr = [83, 98, 92, 99, 78, 97, 90, 95, 93, 96]\n",
    "for i, index in enumerate(indices_arr):\n",
    "    image = np.array(train_100_dataset[index][0].squeeze()) # get the image of the data sample\n",
    "    label = train_100_dataset[index][1] # get the label of the data sample\n",
    "    plt.subplot(1, 10, i + 1)\n",
    "    plt.imshow(image, cmap='gray', interpolation='none')\n",
    "    plt.title(\"Class {}\".format(label))\n",
    "    \n",
    "plt.tight_layout()\n",
    "print('The shape of our greyscale images: ', image.shape)"
   ]
  },
  {
   "attachments": {},
   "cell_type": "markdown",
   "metadata": {
    "id": "V9sz_lHyqJoj"
   },
   "source": [
    "<div class=\"alert alert-warning\">\n",
    "    <h3>Note: Starting Simple</h3>\n",
    "    <p>\n",
    "Regardless of the size of the dataset, the first step is to evaluate the performance of a simple classifier. It is advisable to always start with a straightforward approach when tackling a problem and gradually build upon it to determine which changes yield improvements.</p>\n",
    "</div>\n",
    "\n",
    "# 2. A Simple Classifier\n",
    "\n",
    "In `exercise_code/models.py`, we prepared all classes for you, which you will finalize throughout the notebook to build an Autoencoder and an image classifier with PyTorch.\n",
    "\n",
    "<!-- In case image does not show, uncomment the following:\n",
    " ![network_split](img/network_split.png) \n",
    " -->\n",
    "<img name=\"network_split\" src=\"https://i2dl.vc.in.tum.de/static/images/exercise_08/network_split.png\">\n",
    "\n",
    "\n",
    "## 2.1 The Encoder\n",
    "\n",
    "Unlike previous models, we are going to split up the model into two parts: the `encoder` and the `classifier`. The `classifier` has a fixed task, generating predictions given a one-dimensional input. On the other hand, the `encoder`'s task is to extract meaningful information from the input, enabling the classifier to make accurate decisions. \n",
    "\n",
    "For now, both networks will be similar in design and consist of linear layers coupled with auxiliary layers. This split-up will be relevant later, e.g., by using convolutional layers, which are introduced in the lecture. We are going to set up the `encoder` now. \n",
    "\n",
    "Think about a good network architecture. You have complete freedom in this regard and can devise any network structure you think might be fitting. (\\*)\n",
    "\n",
    "Have a look at the documentation of `torch.nn` at https://pytorch.org/docs/stable/nn.html to learn how to use this module in order to build your network!\n",
    "\n",
    "Then implement your architecture: initialize it in `__init__()` and assign it to `self.model`. This is particularly easy using `nn.Sequential()`, where you only have to pass the list of your layers. \n",
    "\n",
    "To make your model customizable and support parameter search, do not use hardcoded hyperparameters - instead, pass them as a simple dictionary `hparams` (here, `n_hidden` is the number of neurons in the hidden layer) when initializing `models`.\n",
    "\n",
    "Here is a simple example:\n",
    "\n",
    "```python\n",
    "        self.model = nn.Sequential(\n",
    "            nn.Linear(input_size, self.hparams[\"n_hidden\"]),\n",
    "            nn.ReLU(),            \n",
    "            nn.Linear(self.hparams[\"n_hidden\"], num_classes)\n",
    "        )\n",
    "```\n",
    "\n",
    "Have a look at the forward path in `forward(self, x)`, which is so easy that you don't need to implement it yourself.\n",
    "\n",
    "As PyTorch automatically computes the gradients, that's all you need to do! There is no need to manually calculate derivatives for the backward paths anymore! :)\n",
    "\n",
    "\n",
    "____\n",
    "\\* *The size of your final model must be less than 20 MB, which is approximately equivalent to 5 Mio. params. Note that this limit is quite lenient, you will probably need much fewer parameters!*\n",
    "\n",
    "*In order to keep things simple, you should only use fully connected layers for this task, as we need to revert the encoder architecture later on in the notebook.*\n",
    "\n",
    "<div class=\"alert alert-info\">\n",
    "    <h3>Task: Implement</h3>\n",
    "    <p>Implement the <code>Encoder</code> class initialization in <code>exercise_code/models.py</code>.\n",
    "    </p>\n",
    "</div>\n",
    "\n",
    "\n"
   ]
  },
  {
   "attachments": {},
   "cell_type": "markdown",
   "metadata": {
    "id": "jNf7FrvwMNki"
   },
   "source": [
    "## 2.2 The Classifier\n",
    "\n",
    "Now let's implement the classifier. The classifier will utilize the encoder that you have defined in the above cell. By looking at `Classifier.forward`, you can see that we are essentially concatenating the `classifier`and the `encoder` together. Therefore, it is crucial to ensure that the input shape of the classifier matches the output shape of the encoder you implemented above\n",
    "\n",
    "<div class=\"alert alert-info\">\n",
    "    <h3>Task: Implement</h3>\n",
    "    <p>1. Implement the <code>Classifier</code> class network initialization in <code>exercise_code/models.py</code>.\n",
    "    </p>\n",
    "    <p>2. Define in the next cell your hyperparameters in a dictionary called 'hparams'.\n",
    "    </p>\n",
    "</div>"
   ]
  },
  {
   "cell_type": "code",
   "execution_count": 121,
   "metadata": {
    "id": "AawbvD1rMNkj"
   },
   "outputs": [],
   "source": [
    "########################################################################\n",
    "# TODO: Define your hyper parameters here!                             #\n",
    "########################################################################\n",
    "\n",
    "hparams = {\n",
    "        \"batch_size\": 256,\n",
    "        \"learning_rate\": 1e-3,\n",
    "        \"n_hidden\": 180,\n",
    "        \"input_size\": 1 * 28 * 28,\n",
    "        \"num_classes\":  10,\n",
    "        \"num_workers\": 2,\n",
    "        \"epochs\": 50,\n",
    "        \"dropout\": 0.2,\n",
    "        \"device\": device\n",
    "        }\n",
    "\n",
    "########################################################################\n",
    "#                           END OF YOUR CODE                           #\n",
    "########################################################################"
   ]
  },
  {
   "attachments": {},
   "cell_type": "markdown",
   "metadata": {
    "id": "bOYbUg8lAmgU"
   },
   "source": [
    "\n",
    "## 2.3 Optimizer\n",
    "Lastly, implement the function `set_optimizer` to define your optimizer. Here the documentation of `torch.optim` at https://pytorch.org/docs/stable/optim.html might be helpful.\n",
    "\n",
    "<div class=\"alert alert-info\">\n",
    "    <h3>Task: Implement</h3>\n",
    "    <p>Implement the <code>set_optimizer</code> method of the <code>Classifier</code> in <code>exercise_code/models.py</code>.\n",
    "    </p>\n",
    "</div>\n"
   ]
  },
  {
   "attachments": {},
   "cell_type": "markdown",
   "metadata": {
    "id": "xrUfa-a7MNkk"
   },
   "source": [
    "## 2.4 Training & Validation Step\n",
    "\n",
    "<div class=\"alert alert-success\">\n",
    "    <h3>Task: Check Code</h3>\n",
    "    <p> Let's take a closer look at the training pipeline outlined below. It is explicitly written here in its entirety to provide you with a comprehensive understanding of its structure. Additionally, you can refer back to this pipeline whenever you encounter any uncertainties or need guidance.\n",
    " </p>\n",
    "</div>\n"
   ]
  },
  {
   "cell_type": "code",
   "execution_count": 95,
   "metadata": {
    "id": "NY_lLaNWMNkk"
   },
   "outputs": [],
   "source": [
    " # One of the most crucial things in deep learning is to understand the training pipeline:\n",
    " # 1. Forward()          --> The forward pass of the network, to calculate the current loss.\n",
    " # 2. Backward()         --> The backward pass of the network, to calculate the gradients w.r.t the loss, calculated in the previous stage.\n",
    " # 3. Optimizer_step()   --> Update the weights w.r.t their corresponding gradients and the learnign rate.\n",
    "\n",
    "def create_tqdm_bar(iterable, desc):\n",
    "    return tqdm(enumerate(iterable),total=len(iterable), ncols=150, desc=desc)\n",
    "\n",
    "\n",
    "def train_classifier(classifier, train_loader, val_loader, loss_func, tb_logger, epochs=10, name=\"default\"):\n",
    "    \"\"\"\n",
    "    Train the classifier for a number of epochs.\n",
    "    \"\"\"\n",
    "    optimizer = classifier.optimizer\n",
    "    classifier = classifier.to(device)\n",
    "    validation_loss = 0\n",
    "    for epoch in range(epochs):\n",
    "        \n",
    "        training_loss = 0\n",
    "        \n",
    "        # Training stage, where we want to update the parameters.\n",
    "        classifier.train()  # Set the model to training mode\n",
    "        \n",
    "        # Create a progress bar for the training loop.\n",
    "        training_loop = create_tqdm_bar(train_loader, desc=f'Training Epoch [{epoch + 1}/{epochs}]')\n",
    "        for train_iteration, batch in training_loop:\n",
    "            optimizer.zero_grad() # Reset the gradients - VERY important! Otherwise they accumulate.\n",
    "            images, labels = batch # Get the images and labels from the batch, in the fashion we defined in the dataset and dataloader.\n",
    "            images, labels = images.to(device), labels.to(device) # Send the data to the device (GPU or CPU) - it has to be the same device as the model.\n",
    "\n",
    "            # Flatten the images to a vector. This is done because the classifier expects a vector as input.\n",
    "            # Could also be done by reshaping the images in the dataset.\n",
    "            images = images.view(images.shape[0], -1) \n",
    "\n",
    "            pred = classifier(images) # Stage 1: Forward().\n",
    "            loss = loss_func(pred, labels) # Compute the loss over the predictions and the ground truth.\n",
    "            loss.backward()  # Stage 2: Backward().\n",
    "            optimizer.step() # Stage 3: Update the parameters.\n",
    "\n",
    "            training_loss += loss.item()\n",
    "\n",
    "            # Update the progress bar.\n",
    "            training_loop.set_postfix(curr_train_loss = \"{:.8f}\".format(training_loss / (train_iteration + 1)), val_loss = \"{:.8f}\".format(validation_loss))\n",
    "\n",
    "            # Update the tensorboard logger.\n",
    "            tb_logger.add_scalar(f'classifier_{name}/train_loss', loss.item(), epoch * len(train_loader) + train_iteration)\n",
    "            sleep(0.1) # Remove this line if you want to see the progress bar faster.\n",
    "\n",
    "        # Validation stage, where we don't want to update the parameters. Pay attention to the classifier.eval() line\n",
    "        # and \"with torch.no_grad()\" wrapper.\n",
    "        classifier.eval()\n",
    "        val_loop = create_tqdm_bar(val_loader, desc=f'Validation Epoch [{epoch + 1}/{epochs}]')\n",
    "        validation_loss = 0\n",
    "        with torch.no_grad():\n",
    "            for val_iteration, batch in val_loop:\n",
    "                images, labels = batch\n",
    "                images, labels = images.to(device), labels.to(device)\n",
    "\n",
    "                images = images.view(images.shape[0], -1) \n",
    "                pred = classifier(images)\n",
    "                loss = loss_func(pred, labels)\n",
    "                validation_loss += loss.item()\n",
    "\n",
    "                # Update the progress bar.\n",
    "                val_loop.set_postfix(val_loss = \"{:.8f}\".format(validation_loss / (val_iteration + 1)))\n",
    "\n",
    "                # Update the tensorboard logger.\n",
    "                tb_logger.add_scalar(f'classifier_{name}/val_loss', loss.item(), epoch * len(val_loader) + val_iteration)\n",
    "                sleep(0.1) # Remove this line if you want to see the progress bar faster.\n",
    "        \n",
    "        # This value is used for the progress bar of the training loop.\n",
    "        validation_loss /= len(val_loader)\n",
    "            "
   ]
  },
  {
   "attachments": {},
   "cell_type": "markdown",
   "metadata": {
    "id": "KVKLlwlyMNkl"
   },
   "source": [
    "## 2.5 Fit Classification Model with Trainer\n",
    "Now it's finally time to train your model.\n",
    "Run the following cell to see the behold the magic of deep learning at play."
   ]
  },
  {
   "cell_type": "code",
   "execution_count": 122,
   "metadata": {
    "id": "uBGavq9cMNkl"
   },
   "outputs": [
    {
     "name": "stderr",
     "output_type": "stream",
     "text": [
      "Training Epoch [1/50]: 100%|███████████████████████████████████████████| 1/1 [00:00<00:00,  8.48it/s, curr_train_loss=2.36935115, val_loss=0.00000000]\n",
      "Validation Epoch [1/50]: 100%|█████████████████████████████████████████████████████████████████████| 1/1 [00:00<00:00,  9.28it/s, val_loss=2.27429104]\n",
      "Training Epoch [2/50]: 100%|███████████████████████████████████████████| 1/1 [00:00<00:00,  8.59it/s, curr_train_loss=2.01165509, val_loss=2.27429104]\n",
      "Validation Epoch [2/50]: 100%|█████████████████████████████████████████████████████████████████████| 1/1 [00:00<00:00,  9.24it/s, val_loss=2.24387288]\n",
      "Training Epoch [3/50]: 100%|███████████████████████████████████████████| 1/1 [00:00<00:00,  8.53it/s, curr_train_loss=1.73456562, val_loss=2.24387288]\n",
      "Validation Epoch [3/50]: 100%|█████████████████████████████████████████████████████████████████████| 1/1 [00:00<00:00,  9.27it/s, val_loss=2.21161294]\n",
      "Training Epoch [4/50]: 100%|███████████████████████████████████████████| 1/1 [00:00<00:00,  7.85it/s, curr_train_loss=1.52757275, val_loss=2.21161294]\n",
      "Validation Epoch [4/50]: 100%|█████████████████████████████████████████████████████████████████████| 1/1 [00:00<00:00,  9.35it/s, val_loss=2.17803502]\n",
      "Training Epoch [5/50]: 100%|███████████████████████████████████████████| 1/1 [00:00<00:00,  8.11it/s, curr_train_loss=1.37194622, val_loss=2.17803502]\n",
      "Validation Epoch [5/50]: 100%|█████████████████████████████████████████████████████████████████████| 1/1 [00:00<00:00,  9.26it/s, val_loss=2.14274764]\n",
      "Training Epoch [6/50]: 100%|███████████████████████████████████████████| 1/1 [00:00<00:00,  8.18it/s, curr_train_loss=1.24861157, val_loss=2.14274764]\n",
      "Validation Epoch [6/50]: 100%|█████████████████████████████████████████████████████████████████████| 1/1 [00:00<00:00,  9.34it/s, val_loss=2.10552692]\n",
      "Training Epoch [7/50]: 100%|███████████████████████████████████████████| 1/1 [00:00<00:00,  8.25it/s, curr_train_loss=1.14662254, val_loss=2.10552692]\n",
      "Validation Epoch [7/50]: 100%|█████████████████████████████████████████████████████████████████████| 1/1 [00:00<00:00,  9.32it/s, val_loss=2.06627584]\n",
      "Training Epoch [8/50]: 100%|███████████████████████████████████████████| 1/1 [00:00<00:00,  8.22it/s, curr_train_loss=1.06019855, val_loss=2.06627584]\n",
      "Validation Epoch [8/50]: 100%|█████████████████████████████████████████████████████████████████████| 1/1 [00:00<00:00,  9.20it/s, val_loss=2.02540874]\n",
      "Training Epoch [9/50]: 100%|███████████████████████████████████████████| 1/1 [00:00<00:00,  8.41it/s, curr_train_loss=0.98452133, val_loss=2.02540874]\n",
      "Validation Epoch [9/50]: 100%|█████████████████████████████████████████████████████████████████████| 1/1 [00:00<00:00,  9.31it/s, val_loss=1.98333800]\n",
      "Training Epoch [10/50]: 100%|██████████████████████████████████████████| 1/1 [00:00<00:00,  8.43it/s, curr_train_loss=0.91653639, val_loss=1.98333800]\n",
      "Validation Epoch [10/50]: 100%|████████████████████████████████████████████████████████████████████| 1/1 [00:00<00:00,  9.10it/s, val_loss=1.93985641]\n",
      "Training Epoch [11/50]: 100%|██████████████████████████████████████████| 1/1 [00:00<00:00,  8.03it/s, curr_train_loss=0.85429692, val_loss=1.93985641]\n",
      "Validation Epoch [11/50]: 100%|████████████████████████████████████████████████████████████████████| 1/1 [00:00<00:00,  9.34it/s, val_loss=1.89536953]\n",
      "Training Epoch [12/50]: 100%|██████████████████████████████████████████| 1/1 [00:00<00:00,  8.51it/s, curr_train_loss=0.79670924, val_loss=1.89536953]\n",
      "Validation Epoch [12/50]: 100%|████████████████████████████████████████████████████████████████████| 1/1 [00:00<00:00,  9.27it/s, val_loss=1.84995031]\n",
      "Training Epoch [13/50]: 100%|██████████████████████████████████████████| 1/1 [00:00<00:00,  8.24it/s, curr_train_loss=0.74260956, val_loss=1.84995031]\n",
      "Validation Epoch [13/50]: 100%|████████████████████████████████████████████████████████████████████| 1/1 [00:00<00:00,  9.33it/s, val_loss=1.80409908]\n",
      "Training Epoch [14/50]: 100%|██████████████████████████████████████████| 1/1 [00:00<00:00,  8.11it/s, curr_train_loss=0.69150853, val_loss=1.80409908]\n",
      "Validation Epoch [14/50]: 100%|████████████████████████████████████████████████████████████████████| 1/1 [00:00<00:00,  9.30it/s, val_loss=1.75812435]\n",
      "Training Epoch [15/50]: 100%|██████████████████████████████████████████| 1/1 [00:00<00:00,  8.62it/s, curr_train_loss=0.64321554, val_loss=1.75812435]\n",
      "Validation Epoch [15/50]: 100%|████████████████████████████████████████████████████████████████████| 1/1 [00:00<00:00,  9.33it/s, val_loss=1.71239352]\n",
      "Training Epoch [16/50]: 100%|██████████████████████████████████████████| 1/1 [00:00<00:00,  8.42it/s, curr_train_loss=0.59740907, val_loss=1.71239352]\n",
      "Validation Epoch [16/50]: 100%|████████████████████████████████████████████████████████████████████| 1/1 [00:00<00:00,  8.99it/s, val_loss=1.66742539]\n",
      "Training Epoch [17/50]: 100%|██████████████████████████████████████████| 1/1 [00:00<00:00,  8.16it/s, curr_train_loss=0.55412000, val_loss=1.66742539]\n",
      "Validation Epoch [17/50]: 100%|████████████████████████████████████████████████████████████████████| 1/1 [00:00<00:00,  9.32it/s, val_loss=1.62350678]\n",
      "Training Epoch [18/50]: 100%|██████████████████████████████████████████| 1/1 [00:00<00:00,  8.28it/s, curr_train_loss=0.51292866, val_loss=1.62350678]\n",
      "Validation Epoch [18/50]: 100%|████████████████████████████████████████████████████████████████████| 1/1 [00:00<00:00,  9.24it/s, val_loss=1.58074915]\n",
      "Training Epoch [19/50]: 100%|██████████████████████████████████████████| 1/1 [00:00<00:00,  8.62it/s, curr_train_loss=0.47404090, val_loss=1.58074915]\n",
      "Validation Epoch [19/50]: 100%|████████████████████████████████████████████████████████████████████| 1/1 [00:00<00:00,  9.33it/s, val_loss=1.53934574]\n",
      "Training Epoch [20/50]: 100%|██████████████████████████████████████████| 1/1 [00:00<00:00,  8.17it/s, curr_train_loss=0.43763793, val_loss=1.53934574]\n",
      "Validation Epoch [20/50]: 100%|████████████████████████████████████████████████████████████████████| 1/1 [00:00<00:00,  9.20it/s, val_loss=1.49928808]\n",
      "Training Epoch [21/50]: 100%|██████████████████████████████████████████| 1/1 [00:00<00:00,  8.61it/s, curr_train_loss=0.40354446, val_loss=1.49928808]\n",
      "Validation Epoch [21/50]: 100%|████████████████████████████████████████████████████████████████████| 1/1 [00:00<00:00,  9.01it/s, val_loss=1.46086192]\n",
      "Training Epoch [22/50]: 100%|██████████████████████████████████████████| 1/1 [00:00<00:00,  8.31it/s, curr_train_loss=0.37167656, val_loss=1.46086192]\n",
      "Validation Epoch [22/50]: 100%|████████████████████████████████████████████████████████████████████| 1/1 [00:00<00:00,  8.76it/s, val_loss=1.42440832]\n",
      "Training Epoch [23/50]: 100%|██████████████████████████████████████████| 1/1 [00:00<00:00,  8.14it/s, curr_train_loss=0.34191963, val_loss=1.42440832]\n",
      "Validation Epoch [23/50]: 100%|████████████████████████████████████████████████████████████████████| 1/1 [00:00<00:00,  8.99it/s, val_loss=1.38989031]\n",
      "Training Epoch [24/50]: 100%|██████████████████████████████████████████| 1/1 [00:00<00:00,  8.52it/s, curr_train_loss=0.31412548, val_loss=1.38989031]\n",
      "Validation Epoch [24/50]: 100%|████████████████████████████████████████████████████████████████████| 1/1 [00:00<00:00,  9.29it/s, val_loss=1.35731018]\n",
      "Training Epoch [25/50]: 100%|██████████████████████████████████████████| 1/1 [00:00<00:00,  8.65it/s, curr_train_loss=0.28827047, val_loss=1.35731018]\n",
      "Validation Epoch [25/50]: 100%|████████████████████████████████████████████████████████████████████| 1/1 [00:00<00:00,  9.38it/s, val_loss=1.32674372]\n",
      "Training Epoch [26/50]: 100%|██████████████████████████████████████████| 1/1 [00:00<00:00,  8.09it/s, curr_train_loss=0.26436234, val_loss=1.32674372]\n",
      "Validation Epoch [26/50]: 100%|████████████████████████████████████████████████████████████████████| 1/1 [00:00<00:00,  9.27it/s, val_loss=1.29833531]\n",
      "Training Epoch [27/50]: 100%|██████████████████████████████████████████| 1/1 [00:00<00:00,  7.99it/s, curr_train_loss=0.24238604, val_loss=1.29833531]\n",
      "Validation Epoch [27/50]: 100%|████████████████████████████████████████████████████████████████████| 1/1 [00:00<00:00,  8.84it/s, val_loss=1.27191591]\n",
      "Training Epoch [28/50]: 100%|██████████████████████████████████████████| 1/1 [00:00<00:00,  8.20it/s, curr_train_loss=0.22220470, val_loss=1.27191591]\n",
      "Validation Epoch [28/50]: 100%|████████████████████████████████████████████████████████████████████| 1/1 [00:00<00:00,  9.26it/s, val_loss=1.24728811]\n",
      "Training Epoch [29/50]: 100%|██████████████████████████████████████████| 1/1 [00:00<00:00,  8.22it/s, curr_train_loss=0.20362642, val_loss=1.24728811]\n",
      "Validation Epoch [29/50]: 100%|████████████████████████████████████████████████████████████████████| 1/1 [00:00<00:00,  9.28it/s, val_loss=1.22454214]\n",
      "Training Epoch [30/50]: 100%|██████████████████████████████████████████| 1/1 [00:00<00:00,  8.28it/s, curr_train_loss=0.18657751, val_loss=1.22454214]\n",
      "Validation Epoch [30/50]: 100%|████████████████████████████████████████████████████████████████████| 1/1 [00:00<00:00,  9.33it/s, val_loss=1.20353281]\n",
      "Training Epoch [31/50]: 100%|██████████████████████████████████████████| 1/1 [00:00<00:00,  8.22it/s, curr_train_loss=0.17096436, val_loss=1.20353281]\n",
      "Validation Epoch [31/50]: 100%|████████████████████████████████████████████████████████████████████| 1/1 [00:00<00:00,  9.23it/s, val_loss=1.18405867]\n",
      "Training Epoch [32/50]: 100%|██████████████████████████████████████████| 1/1 [00:00<00:00,  8.56it/s, curr_train_loss=0.15667938, val_loss=1.18405867]\n",
      "Validation Epoch [32/50]: 100%|████████████████████████████████████████████████████████████████████| 1/1 [00:00<00:00,  9.18it/s, val_loss=1.16618061]\n",
      "Training Epoch [33/50]: 100%|██████████████████████████████████████████| 1/1 [00:00<00:00,  8.26it/s, curr_train_loss=0.14363743, val_loss=1.16618061]\n",
      "Validation Epoch [33/50]: 100%|████████████████████████████████████████████████████████████████████| 1/1 [00:00<00:00,  9.26it/s, val_loss=1.14972079]\n",
      "Training Epoch [34/50]: 100%|██████████████████████████████████████████| 1/1 [00:00<00:00,  8.12it/s, curr_train_loss=0.13174903, val_loss=1.14972079]\n",
      "Validation Epoch [34/50]: 100%|████████████████████████████████████████████████████████████████████| 1/1 [00:00<00:00,  9.04it/s, val_loss=1.13455296]\n",
      "Training Epoch [35/50]: 100%|██████████████████████████████████████████| 1/1 [00:00<00:00,  8.24it/s, curr_train_loss=0.12086999, val_loss=1.13455296]\n",
      "Validation Epoch [35/50]: 100%|████████████████████████████████████████████████████████████████████| 1/1 [00:00<00:00,  8.91it/s, val_loss=1.12062836]\n",
      "Training Epoch [36/50]: 100%|██████████████████████████████████████████| 1/1 [00:00<00:00,  8.24it/s, curr_train_loss=0.11094008, val_loss=1.12062836]\n",
      "Validation Epoch [36/50]: 100%|████████████████████████████████████████████████████████████████████| 1/1 [00:00<00:00,  9.28it/s, val_loss=1.10779619]\n",
      "Training Epoch [37/50]: 100%|██████████████████████████████████████████| 1/1 [00:00<00:00,  8.45it/s, curr_train_loss=0.10189673, val_loss=1.10779619]\n",
      "Validation Epoch [37/50]: 100%|████████████████████████████████████████████████████████████████████| 1/1 [00:00<00:00,  9.08it/s, val_loss=1.09596932]\n",
      "Training Epoch [38/50]: 100%|██████████████████████████████████████████| 1/1 [00:00<00:00,  8.51it/s, curr_train_loss=0.09366298, val_loss=1.09596932]\n",
      "Validation Epoch [38/50]: 100%|████████████████████████████████████████████████████████████████████| 1/1 [00:00<00:00,  8.79it/s, val_loss=1.08510065]\n",
      "Training Epoch [39/50]: 100%|██████████████████████████████████████████| 1/1 [00:00<00:00,  8.36it/s, curr_train_loss=0.08616726, val_loss=1.08510065]\n",
      "Validation Epoch [39/50]: 100%|████████████████████████████████████████████████████████████████████| 1/1 [00:00<00:00,  8.97it/s, val_loss=1.07506287]\n",
      "Training Epoch [40/50]: 100%|██████████████████████████████████████████| 1/1 [00:00<00:00,  7.92it/s, curr_train_loss=0.07933675, val_loss=1.07506287]\n",
      "Validation Epoch [40/50]: 100%|████████████████████████████████████████████████████████████████████| 1/1 [00:00<00:00,  9.28it/s, val_loss=1.06594038]\n",
      "Training Epoch [41/50]: 100%|██████████████████████████████████████████| 1/1 [00:00<00:00,  8.57it/s, curr_train_loss=0.07312312, val_loss=1.06594038]\n",
      "Validation Epoch [41/50]: 100%|████████████████████████████████████████████████████████████████████| 1/1 [00:00<00:00,  9.32it/s, val_loss=1.05772686]\n",
      "Training Epoch [42/50]: 100%|██████████████████████████████████████████| 1/1 [00:00<00:00,  8.39it/s, curr_train_loss=0.06749149, val_loss=1.05772686]\n",
      "Validation Epoch [42/50]: 100%|████████████████████████████████████████████████████████████████████| 1/1 [00:00<00:00,  8.88it/s, val_loss=1.05025196]\n",
      "Training Epoch [43/50]: 100%|██████████████████████████████████████████| 1/1 [00:00<00:00,  8.14it/s, curr_train_loss=0.06237949, val_loss=1.05025196]\n",
      "Validation Epoch [43/50]: 100%|████████████████████████████████████████████████████████████████████| 1/1 [00:00<00:00,  9.32it/s, val_loss=1.04351377]\n",
      "Training Epoch [44/50]: 100%|██████████████████████████████████████████| 1/1 [00:00<00:00,  8.12it/s, curr_train_loss=0.05774220, val_loss=1.04351377]\n",
      "Validation Epoch [44/50]: 100%|████████████████████████████████████████████████████████████████████| 1/1 [00:00<00:00,  9.23it/s, val_loss=1.03740501]\n",
      "Training Epoch [45/50]: 100%|██████████████████████████████████████████| 1/1 [00:00<00:00,  8.80it/s, curr_train_loss=0.05353596, val_loss=1.03740501]\n",
      "Validation Epoch [45/50]: 100%|████████████████████████████████████████████████████████████████████| 1/1 [00:00<00:00,  8.94it/s, val_loss=1.03191257]\n",
      "Training Epoch [46/50]: 100%|██████████████████████████████████████████| 1/1 [00:00<00:00,  8.43it/s, curr_train_loss=0.04972554, val_loss=1.03191257]\n",
      "Validation Epoch [46/50]: 100%|████████████████████████████████████████████████████████████████████| 1/1 [00:00<00:00,  9.05it/s, val_loss=1.02705443]\n",
      "Training Epoch [47/50]: 100%|██████████████████████████████████████████| 1/1 [00:00<00:00,  8.55it/s, curr_train_loss=0.04628371, val_loss=1.02705443]\n",
      "Validation Epoch [47/50]: 100%|████████████████████████████████████████████████████████████████████| 1/1 [00:00<00:00,  9.25it/s, val_loss=1.02260137]\n",
      "Training Epoch [48/50]: 100%|██████████████████████████████████████████| 1/1 [00:00<00:00,  8.26it/s, curr_train_loss=0.04317001, val_loss=1.02260137]\n",
      "Validation Epoch [48/50]: 100%|████████████████████████████████████████████████████████████████████| 1/1 [00:00<00:00,  9.34it/s, val_loss=1.01854718]\n",
      "Training Epoch [49/50]: 100%|██████████████████████████████████████████| 1/1 [00:00<00:00,  8.33it/s, curr_train_loss=0.04034171, val_loss=1.01854718]\n",
      "Validation Epoch [49/50]: 100%|████████████████████████████████████████████████████████████████████| 1/1 [00:00<00:00,  9.16it/s, val_loss=1.01485074]\n",
      "Training Epoch [50/50]: 100%|██████████████████████████████████████████| 1/1 [00:00<00:00,  8.10it/s, curr_train_loss=0.03777320, val_loss=1.01485074]\n",
      "Validation Epoch [50/50]: 100%|████████████████████████████████████████████████████████████████████| 1/1 [00:00<00:00,  8.99it/s, val_loss=1.01155972]"
     ]
    },
    {
     "name": "stdout",
     "output_type": "stream",
     "text": [
      "Finished training!\n",
      "How did we do? Let's check the accuracy of the defaut classifier on the training and validation sets:\n",
      "Training Acc: 100.0%\n",
      "Validation Acc: 73.0%\n"
     ]
    },
    {
     "name": "stderr",
     "output_type": "stream",
     "text": [
      "\n"
     ]
    }
   ],
   "source": [
    "from exercise_code.models import Classifier\n",
    "from exercise_code.models import Encoder\n",
    "\n",
    "# Create the encoder and the classifier.\n",
    "encoder = Encoder(hparams).to(device)\n",
    "classifier = Classifier(hparams, encoder).to(device)\n",
    "\n",
    "# Create a tensorboard logger.\n",
    "# NOTE: In order to see the logs, run the following command in the terminal: tensorboard --logdir=./\n",
    "# Also, in order to reset the logs, delete the logs folder MANUALLY.\n",
    "\n",
    "path = os.path.join('logs', 'cls_logs')\n",
    "num_of_runs = len(os.listdir(path)) if os.path.exists(path) else 0\n",
    "path = os.path.join(path, f'run_{num_of_runs + 1}')\n",
    "\n",
    "tb_logger = SummaryWriter(path)\n",
    "\n",
    "# Train the classifier.\n",
    "labled_train_loader = torch.utils.data.DataLoader(train_100_dataset, batch_size=hparams['batch_size'], shuffle=True)\n",
    "labled_val_loader = torch.utils.data.DataLoader(val_100_dataset, batch_size=hparams['batch_size'], shuffle=False)\n",
    "\n",
    "epochs = hparams.get('epochs', 10)\n",
    "loss_func = nn.CrossEntropyLoss() # The loss function we use for classification.\n",
    "train_classifier(classifier, labled_train_loader, labled_val_loader, loss_func, tb_logger, epochs=epochs, name=\"Default\")\n",
    "\n",
    "print(\"Finished training!\")\n",
    "print(\"How did we do? Let's check the accuracy of the defaut classifier on the training and validation sets:\")\n",
    "print(f\"Training Acc: {classifier.getAcc(labled_train_loader)[1] * 100}%\")\n",
    "print(f\"Validation Acc: {classifier.getAcc(labled_val_loader)[1] * 100}%\")"
   ]
  },
  {
   "attachments": {},
   "cell_type": "markdown",
   "metadata": {
    "id": "i16vmHZXMNkm",
    "pycharm": {
     "name": "#%% md\n"
    }
   },
   "source": [
    "# 3. Autoencoder\n",
    "\n",
    "With only a limited number of labeled images, it's challenging to achieve high performance. We have no money left to pay the student to create more labels, and labeling the data ourselves is out of question. A commonly used approach would be to apply data augmentation to maximize the potential of our limited labeled data, but here we provide another way to solve this problem: **transfer learning**.\n",
    "\n",
    "For each input, the autoencoder tries to reproduce the same image as an output. The difficulty behind this task is that the autoencoder has to go through a low dimensional bottleneck, which is called the **latent space**.\n",
    "In other words, the autoencoder learns to represent all the input information in a low dimensional latent space - it learns to compress the input distribution. To train the autoencoder, we use the mean squared error loss, which calculates the discrepancy between the input pixels and the output pixels. The best part is that this loss function doesn't require any labels!\n",
    "\n",
    "By pretraining the autoencoder in this way on a large amount of unlabeled data, we can capture valuable latent representations of the input images. Then, we transfer the weights of the encoder to our classifier, enabling it to benefit from the knowledge learned during the unsupervised pretraining phase. \n",
    "\n",
    "<!-- In case the image does not show, uncomment the following:\n",
    "![autoencoder](img/autoencoder.png) \n",
    "-->\n",
    "<img name=\"autoencoder\" src=\"https://i2dl.vc.in.tum.de/static/images/exercise_08/autoencoder.png\">\n",
    "\n",
    "After this, our encoder has learned to extract meaningful information from the inputs. We can then transfer its weights\n",
    "to a classifier architecture and finetune it with our labeled data, i.e., instead of initializing our encoder randomly, we are re-using the weights of our trained encoder from our autoencoder network. \n",
    "\n",
    "<!-- In case the image does not show, uncomment the following:\n",
    "![autoencoder_pretrained](img/pretrained.png) \n",
    "-->\n",
    "<img name=\"autoencoder_pretrained\" src=\"https://i2dl.vc.in.tum.de/static/images/exercise_08/pretrained.png\">\n",
    "\n",
    "\n",
    "Before we can train our autoencoder, you have to initialize your `decoder` architecture. The simplest way is to mirror your encoder architecture, which ensures that the `latent space` output of our `encoder` is correctly transformed to our input shape.\n",
    "\n",
    "<div class=\"alert alert-info\">\n",
    "    <h3>Task: Implement</h3>\n",
    "    <p>Implement the <code>Decoder</code> class initialization in <code>exercise_code/models.py</code>.</p>\n",
    "    <p>Implement <code>forward</code>, <code>set_optimizer</code>, <code>training_step</code> and <code>validation_step</code> of the <code>Autoencoder</code> in  <code>exercise_code/models.py</code>, following the pipeline we've shown you in train_classifier().</p>\n",
    "    <p>Note the differences between the classification task and now the regression task!</p>\n",
    "\n",
    "\n",
    "</div>\n",
    "\n",
    "## 3.2 Autoencoder Training\n",
    "\n",
    "Now, we can train the full autoencoder consisting of both en- and decoder.\n",
    "\n",
    "\n"
   ]
  },
  {
   "cell_type": "code",
   "execution_count": 97,
   "metadata": {
    "id": "xqqdoLDgMNkm",
    "scrolled": true
   },
   "outputs": [],
   "source": [
    "from exercise_code.models import Autoencoder, Encoder, Decoder\n",
    "\n",
    "########################################################################\n",
    "# TODO: Define your hyperparameters here!                              #\n",
    "# Hint: use a large batch_size                                         #\n",
    "########################################################################\n",
    "\n",
    "hparams = {\n",
    "        \"batch_size\": 500,\n",
    "        \"learning_rate\": 1e-3,\n",
    "        \"n_hidden\": 180,\n",
    "        \"input_size\": 1 * 28 * 28,\n",
    "        \"num_classes\": 10,\n",
    "        \"num_workers\": 2,\n",
    "        \"epochs\": 50,\n",
    "        \"dropout\": 0.2,\n",
    "        \"device\": device\n",
    "        }\n",
    "\n",
    "########################################################################\n",
    "#                           END OF YOUR CODE                           #\n",
    "########################################################################\n",
    "encoder_pretrained = Encoder(hparams).to(device)\n",
    "decoder = Decoder(hparams).to(device)\n",
    "autoencoder = Autoencoder(hparams, encoder_pretrained, decoder).to(device)"
   ]
  },
  {
   "attachments": {},
   "cell_type": "markdown",
   "metadata": {
    "id": "uRuIIm8YMNkn"
   },
   "source": [
    "Some tests to check whether we'll accept your model."
   ]
  },
  {
   "cell_type": "code",
   "execution_count": 98,
   "metadata": {
    "id": "SoAaC-NqMNkn",
    "scrolled": true
   },
   "outputs": [
    {
     "name": "stdout",
     "output_type": "stream",
     "text": [
      "# Parameters: Your model has \u001b[92m0.291\u001b[0m mio. params.\n",
      "Model accepted!\n"
     ]
    }
   ],
   "source": [
    "from exercise_code.Util import printModelInfo, load_model\n",
    "_ = printModelInfo(autoencoder)"
   ]
  },
  {
   "attachments": {},
   "cell_type": "markdown",
   "metadata": {
    "id": "plQwnphtqggl"
   },
   "source": [
    "After implementing the relevant functions - read the following code, and then run it.\n",
    "Keep in mind that an epoch here will take much longer since\n",
    "we are iterating through 5,8600 images instead of just 100.\n",
    "\n",
    "For speed, colab is indeed recommended. "
   ]
  },
  {
   "cell_type": "code",
   "execution_count": 99,
   "metadata": {
    "id": "_uuzXMq6zjbb",
    "scrolled": true,
    "tags": []
   },
   "outputs": [
    {
     "name": "stderr",
     "output_type": "stream",
     "text": [
      "Training Epoch [0/50]: 100%|███████████████████████████████████████████| 118/118 [00:01<00:00, 106.88it/s, train_loss=0.05827948, val_loss=0.00000000]\n",
      "Validation Epoch [0/50]: 100%|████████████████████████████████████████████████████████████████████| 2/2 [00:00<00:00, 142.88it/s, val_loss=0.03049315]\n",
      "Training Epoch [1/50]: 100%|███████████████████████████████████████████| 118/118 [00:00<00:00, 120.80it/s, train_loss=0.02548011, val_loss=0.03049315]\n",
      "Validation Epoch [1/50]: 100%|████████████████████████████████████████████████████████████████████| 2/2 [00:00<00:00, 142.82it/s, val_loss=0.02256838]\n",
      "Training Epoch [2/50]: 100%|███████████████████████████████████████████| 118/118 [00:00<00:00, 122.24it/s, train_loss=0.02045830, val_loss=0.02256838]\n",
      "Validation Epoch [2/50]: 100%|████████████████████████████████████████████████████████████████████| 2/2 [00:00<00:00, 166.54it/s, val_loss=0.01922984]\n",
      "Training Epoch [3/50]: 100%|███████████████████████████████████████████| 118/118 [00:01<00:00, 116.74it/s, train_loss=0.01792542, val_loss=0.01922984]\n",
      "Validation Epoch [3/50]: 100%|████████████████████████████████████████████████████████████████████| 2/2 [00:00<00:00, 142.85it/s, val_loss=0.01748338]\n",
      "Training Epoch [4/50]: 100%|███████████████████████████████████████████| 118/118 [00:01<00:00, 113.24it/s, train_loss=0.01654101, val_loss=0.01748338]\n",
      "Validation Epoch [4/50]: 100%|████████████████████████████████████████████████████████████████████| 2/2 [00:00<00:00, 142.84it/s, val_loss=0.01619105]\n",
      "Training Epoch [5/50]: 100%|███████████████████████████████████████████| 118/118 [00:01<00:00, 115.23it/s, train_loss=0.01559979, val_loss=0.01619105]\n",
      "Validation Epoch [5/50]: 100%|████████████████████████████████████████████████████████████████████| 2/2 [00:00<00:00, 133.36it/s, val_loss=0.01549324]\n",
      "Training Epoch [6/50]: 100%|████████████████████████████████████████████| 118/118 [00:01<00:00, 95.31it/s, train_loss=0.01497005, val_loss=0.01549324]\n",
      "Validation Epoch [6/50]: 100%|████████████████████████████████████████████████████████████████████| 2/2 [00:00<00:00, 133.33it/s, val_loss=0.01480198]\n",
      "Training Epoch [7/50]: 100%|████████████████████████████████████████████| 118/118 [00:01<00:00, 94.25it/s, train_loss=0.01443813, val_loss=0.01480198]\n",
      "Validation Epoch [7/50]: 100%|████████████████████████████████████████████████████████████████████| 2/2 [00:00<00:00, 111.14it/s, val_loss=0.01429555]\n",
      "Training Epoch [8/50]: 100%|████████████████████████████████████████████| 118/118 [00:01<00:00, 93.28it/s, train_loss=0.01406049, val_loss=0.01429555]\n",
      "Validation Epoch [8/50]: 100%|████████████████████████████████████████████████████████████████████| 2/2 [00:00<00:00, 105.20it/s, val_loss=0.01402265]\n",
      "Training Epoch [9/50]: 100%|████████████████████████████████████████████| 118/118 [00:01<00:00, 99.38it/s, train_loss=0.01377357, val_loss=0.01402265]\n",
      "Validation Epoch [9/50]: 100%|████████████████████████████████████████████████████████████████████| 2/2 [00:00<00:00, 117.66it/s, val_loss=0.01370823]\n",
      "Training Epoch [10/50]: 100%|███████████████████████████████████████████| 118/118 [00:01<00:00, 78.82it/s, train_loss=0.01341816, val_loss=0.01370823]\n",
      "Validation Epoch [10/50]: 100%|███████████████████████████████████████████████████████████████████| 2/2 [00:00<00:00, 124.97it/s, val_loss=0.01349336]\n",
      "Training Epoch [11/50]: 100%|███████████████████████████████████████████| 118/118 [00:01<00:00, 83.47it/s, train_loss=0.01317973, val_loss=0.01349336]\n",
      "Validation Epoch [11/50]: 100%|███████████████████████████████████████████████████████████████████| 2/2 [00:00<00:00, 117.65it/s, val_loss=0.01322824]\n",
      "Training Epoch [12/50]: 100%|███████████████████████████████████████████| 118/118 [00:01<00:00, 79.73it/s, train_loss=0.01305791, val_loss=0.01322824]\n",
      "Validation Epoch [12/50]: 100%|███████████████████████████████████████████████████████████████████| 2/2 [00:00<00:00, 133.29it/s, val_loss=0.01313547]\n",
      "Training Epoch [13/50]: 100%|███████████████████████████████████████████| 118/118 [00:01<00:00, 83.94it/s, train_loss=0.01287227, val_loss=0.01313547]\n",
      "Validation Epoch [13/50]: 100%|███████████████████████████████████████████████████████████████████| 2/2 [00:00<00:00, 133.32it/s, val_loss=0.01294825]\n",
      "Training Epoch [14/50]: 100%|██████████████████████████████████████████| 118/118 [00:01<00:00, 116.60it/s, train_loss=0.01271850, val_loss=0.01294825]\n",
      "Validation Epoch [14/50]: 100%|███████████████████████████████████████████████████████████████████| 2/2 [00:00<00:00, 153.91it/s, val_loss=0.01283424]\n",
      "Training Epoch [15/50]: 100%|██████████████████████████████████████████| 118/118 [00:00<00:00, 118.26it/s, train_loss=0.01258036, val_loss=0.01283424]\n",
      "Validation Epoch [15/50]: 100%|███████████████████████████████████████████████████████████████████| 2/2 [00:00<00:00, 133.36it/s, val_loss=0.01271323]\n",
      "Training Epoch [16/50]: 100%|██████████████████████████████████████████| 118/118 [00:01<00:00, 108.75it/s, train_loss=0.01243678, val_loss=0.01271323]\n",
      "Validation Epoch [16/50]: 100%|███████████████████████████████████████████████████████████████████| 2/2 [00:00<00:00, 117.66it/s, val_loss=0.01266074]\n",
      "Training Epoch [17/50]: 100%|██████████████████████████████████████████| 118/118 [00:00<00:00, 121.48it/s, train_loss=0.01232624, val_loss=0.01266074]\n",
      "Validation Epoch [17/50]: 100%|███████████████████████████████████████████████████████████████████| 2/2 [00:00<00:00, 142.88it/s, val_loss=0.01250679]\n",
      "Training Epoch [18/50]: 100%|██████████████████████████████████████████| 118/118 [00:00<00:00, 118.94it/s, train_loss=0.01223012, val_loss=0.01250679]\n",
      "Validation Epoch [18/50]: 100%|███████████████████████████████████████████████████████████████████| 2/2 [00:00<00:00, 153.85it/s, val_loss=0.01248167]\n",
      "Training Epoch [19/50]: 100%|██████████████████████████████████████████| 118/118 [00:00<00:00, 118.81it/s, train_loss=0.01210327, val_loss=0.01248167]\n",
      "Validation Epoch [19/50]: 100%|███████████████████████████████████████████████████████████████████| 2/2 [00:00<00:00, 181.81it/s, val_loss=0.01226595]\n",
      "Training Epoch [20/50]: 100%|██████████████████████████████████████████| 118/118 [00:00<00:00, 122.01it/s, train_loss=0.01191840, val_loss=0.01226595]\n",
      "Validation Epoch [20/50]: 100%|███████████████████████████████████████████████████████████████████| 2/2 [00:00<00:00, 153.85it/s, val_loss=0.01215405]\n",
      "Training Epoch [21/50]: 100%|██████████████████████████████████████████| 118/118 [00:01<00:00, 109.04it/s, train_loss=0.01185661, val_loss=0.01215405]\n",
      "Validation Epoch [21/50]: 100%|███████████████████████████████████████████████████████████████████| 2/2 [00:00<00:00, 166.62it/s, val_loss=0.01207383]\n",
      "Training Epoch [22/50]: 100%|██████████████████████████████████████████| 118/118 [00:00<00:00, 121.13it/s, train_loss=0.01180508, val_loss=0.01207383]\n",
      "Validation Epoch [22/50]: 100%|███████████████████████████████████████████████████████████████████| 2/2 [00:00<00:00, 153.84it/s, val_loss=0.01201367]\n",
      "Training Epoch [23/50]: 100%|██████████████████████████████████████████| 118/118 [00:00<00:00, 123.03it/s, train_loss=0.01171164, val_loss=0.01201367]\n",
      "Validation Epoch [23/50]: 100%|███████████████████████████████████████████████████████████████████| 2/2 [00:00<00:00, 153.88it/s, val_loss=0.01194310]\n",
      "Training Epoch [24/50]: 100%|██████████████████████████████████████████| 118/118 [00:00<00:00, 125.12it/s, train_loss=0.01162319, val_loss=0.01194310]\n",
      "Validation Epoch [24/50]: 100%|███████████████████████████████████████████████████████████████████| 2/2 [00:00<00:00, 153.81it/s, val_loss=0.01182747]\n",
      "Training Epoch [25/50]: 100%|██████████████████████████████████████████| 118/118 [00:00<00:00, 121.15it/s, train_loss=0.01158061, val_loss=0.01182747]\n",
      "Validation Epoch [25/50]: 100%|███████████████████████████████████████████████████████████████████| 2/2 [00:00<00:00, 142.86it/s, val_loss=0.01185186]\n",
      "Training Epoch [26/50]: 100%|██████████████████████████████████████████| 118/118 [00:01<00:00, 114.45it/s, train_loss=0.01151021, val_loss=0.01185186]\n",
      "Validation Epoch [26/50]: 100%|███████████████████████████████████████████████████████████████████| 2/2 [00:00<00:00, 133.34it/s, val_loss=0.01174929]\n",
      "Training Epoch [27/50]: 100%|██████████████████████████████████████████| 118/118 [00:00<00:00, 122.53it/s, train_loss=0.01144118, val_loss=0.01174929]\n",
      "Validation Epoch [27/50]: 100%|███████████████████████████████████████████████████████████████████| 2/2 [00:00<00:00, 166.60it/s, val_loss=0.01173144]\n",
      "Training Epoch [28/50]: 100%|██████████████████████████████████████████| 118/118 [00:00<00:00, 122.41it/s, train_loss=0.01139345, val_loss=0.01173144]\n",
      "Validation Epoch [28/50]: 100%|███████████████████████████████████████████████████████████████████| 2/2 [00:00<00:00, 166.51it/s, val_loss=0.01174078]\n",
      "Training Epoch [29/50]: 100%|██████████████████████████████████████████| 118/118 [00:00<00:00, 122.91it/s, train_loss=0.01133763, val_loss=0.01174078]\n",
      "Validation Epoch [29/50]: 100%|███████████████████████████████████████████████████████████████████| 2/2 [00:00<00:00, 153.79it/s, val_loss=0.01152621]\n",
      "Training Epoch [30/50]: 100%|██████████████████████████████████████████| 118/118 [00:00<00:00, 124.34it/s, train_loss=0.01121789, val_loss=0.01152621]\n",
      "Validation Epoch [30/50]: 100%|███████████████████████████████████████████████████████████████████| 2/2 [00:00<00:00, 181.85it/s, val_loss=0.01145232]\n",
      "Training Epoch [31/50]: 100%|██████████████████████████████████████████| 118/118 [00:01<00:00, 113.47it/s, train_loss=0.01116630, val_loss=0.01145232]\n",
      "Validation Epoch [31/50]: 100%|███████████████████████████████████████████████████████████████████| 2/2 [00:00<00:00, 153.86it/s, val_loss=0.01142906]\n",
      "Training Epoch [32/50]: 100%|██████████████████████████████████████████| 118/118 [00:00<00:00, 122.64it/s, train_loss=0.01113943, val_loss=0.01142906]\n",
      "Validation Epoch [32/50]: 100%|███████████████████████████████████████████████████████████████████| 2/2 [00:00<00:00, 181.84it/s, val_loss=0.01137867]\n",
      "Training Epoch [33/50]: 100%|██████████████████████████████████████████| 118/118 [00:00<00:00, 121.51it/s, train_loss=0.01107349, val_loss=0.01137867]\n",
      "Validation Epoch [33/50]: 100%|███████████████████████████████████████████████████████████████████| 2/2 [00:00<00:00, 153.85it/s, val_loss=0.01132790]\n",
      "Training Epoch [34/50]: 100%|██████████████████████████████████████████| 118/118 [00:00<00:00, 122.52it/s, train_loss=0.01104457, val_loss=0.01132790]\n",
      "Validation Epoch [34/50]: 100%|███████████████████████████████████████████████████████████████████| 2/2 [00:00<00:00, 166.60it/s, val_loss=0.01130476]\n",
      "Training Epoch [35/50]: 100%|██████████████████████████████████████████| 118/118 [00:00<00:00, 122.39it/s, train_loss=0.01100024, val_loss=0.01130476]\n",
      "Validation Epoch [35/50]: 100%|███████████████████████████████████████████████████████████████████| 2/2 [00:00<00:00, 153.89it/s, val_loss=0.01125594]\n",
      "Training Epoch [36/50]: 100%|██████████████████████████████████████████| 118/118 [00:01<00:00, 113.01it/s, train_loss=0.01096041, val_loss=0.01125594]\n",
      "Validation Epoch [36/50]: 100%|███████████████████████████████████████████████████████████████████| 2/2 [00:00<00:00, 166.65it/s, val_loss=0.01122321]\n",
      "Training Epoch [37/50]: 100%|██████████████████████████████████████████| 118/118 [00:00<00:00, 122.01it/s, train_loss=0.01092727, val_loss=0.01122321]\n",
      "Validation Epoch [37/50]: 100%|███████████████████████████████████████████████████████████████████| 2/2 [00:00<00:00, 153.87it/s, val_loss=0.01119757]\n",
      "Training Epoch [38/50]: 100%|██████████████████████████████████████████| 118/118 [00:00<00:00, 118.94it/s, train_loss=0.01088244, val_loss=0.01119757]\n",
      "Validation Epoch [38/50]: 100%|███████████████████████████████████████████████████████████████████| 2/2 [00:00<00:00, 166.68it/s, val_loss=0.01115480]\n",
      "Training Epoch [39/50]: 100%|██████████████████████████████████████████| 118/118 [00:00<00:00, 118.70it/s, train_loss=0.01084260, val_loss=0.01115480]\n",
      "Validation Epoch [39/50]: 100%|███████████████████████████████████████████████████████████████████| 2/2 [00:00<00:00, 117.70it/s, val_loss=0.01108018]\n",
      "Training Epoch [40/50]: 100%|██████████████████████████████████████████| 118/118 [00:01<00:00, 110.37it/s, train_loss=0.01075371, val_loss=0.01108018]\n",
      "Validation Epoch [40/50]: 100%|███████████████████████████████████████████████████████████████████| 2/2 [00:00<00:00, 125.01it/s, val_loss=0.01107602]\n",
      "Training Epoch [41/50]: 100%|██████████████████████████████████████████| 118/118 [00:01<00:00, 110.33it/s, train_loss=0.01072881, val_loss=0.01107602]\n",
      "Validation Epoch [41/50]: 100%|███████████████████████████████████████████████████████████████████| 2/2 [00:00<00:00, 153.81it/s, val_loss=0.01103598]\n",
      "Training Epoch [42/50]: 100%|██████████████████████████████████████████| 118/118 [00:01<00:00, 113.30it/s, train_loss=0.01071192, val_loss=0.01103598]\n",
      "Validation Epoch [42/50]: 100%|███████████████████████████████████████████████████████████████████| 2/2 [00:00<00:00, 166.55it/s, val_loss=0.01101470]\n",
      "Training Epoch [43/50]: 100%|██████████████████████████████████████████| 118/118 [00:01<00:00, 102.97it/s, train_loss=0.01069471, val_loss=0.01101470]\n",
      "Validation Epoch [43/50]: 100%|███████████████████████████████████████████████████████████████████| 2/2 [00:00<00:00, 125.00it/s, val_loss=0.01097831]\n",
      "Training Epoch [44/50]: 100%|██████████████████████████████████████████| 118/118 [00:01<00:00, 113.79it/s, train_loss=0.01066359, val_loss=0.01097831]\n",
      "Validation Epoch [44/50]: 100%|███████████████████████████████████████████████████████████████████| 2/2 [00:00<00:00, 166.63it/s, val_loss=0.01096282]\n",
      "Training Epoch [45/50]: 100%|██████████████████████████████████████████| 118/118 [00:01<00:00, 112.49it/s, train_loss=0.01063106, val_loss=0.01096282]\n",
      "Validation Epoch [45/50]: 100%|███████████████████████████████████████████████████████████████████| 2/2 [00:00<00:00, 153.88it/s, val_loss=0.01094384]\n",
      "Training Epoch [46/50]: 100%|██████████████████████████████████████████| 118/118 [00:01<00:00, 107.38it/s, train_loss=0.01063003, val_loss=0.01094384]\n",
      "Validation Epoch [46/50]: 100%|███████████████████████████████████████████████████████████████████| 2/2 [00:00<00:00, 133.33it/s, val_loss=0.01091449]\n",
      "Training Epoch [47/50]: 100%|██████████████████████████████████████████| 118/118 [00:01<00:00, 104.32it/s, train_loss=0.01060389, val_loss=0.01091449]\n",
      "Validation Epoch [47/50]: 100%|███████████████████████████████████████████████████████████████████| 2/2 [00:00<00:00, 142.81it/s, val_loss=0.01088064]\n",
      "Training Epoch [48/50]: 100%|██████████████████████████████████████████| 118/118 [00:01<00:00, 102.77it/s, train_loss=0.01057148, val_loss=0.01088064]\n",
      "Validation Epoch [48/50]: 100%|███████████████████████████████████████████████████████████████████| 2/2 [00:00<00:00, 142.85it/s, val_loss=0.01087149]\n",
      "Training Epoch [49/50]: 100%|██████████████████████████████████████████| 118/118 [00:01<00:00, 109.14it/s, train_loss=0.01056229, val_loss=0.01087149]\n",
      "Validation Epoch [49/50]: 100%|███████████████████████████████████████████████████████████████████| 2/2 [00:00<00:00, 105.25it/s, val_loss=0.01085640]"
     ]
    },
    {
     "name": "stdout",
     "output_type": "stream",
     "text": [
      "Finished training!\n"
     ]
    },
    {
     "name": "stderr",
     "output_type": "stream",
     "text": [
      "\n"
     ]
    }
   ],
   "source": [
    "encoder_pretrained = Encoder(hparams).to(device)\n",
    "decoder = Decoder(hparams).to(device)\n",
    "autoencoder = Autoencoder(hparams, encoder_pretrained, decoder).to(device)\n",
    "\n",
    "def train_model(model, train_loader, val_loader, loss_func, tb_logger, epochs=10, name='Autoencoder'):\n",
    "    \n",
    "    optimizer = model.optimizer\n",
    "    scheduler = torch.optim.lr_scheduler.StepLR(optimizer, step_size=epochs * len(train_loader) / 5, gamma=0.7)\n",
    "    validation_loss = 0\n",
    "    model = model.to(device)\n",
    "    for epoch in range(epochs):\n",
    "        \n",
    "        # Train\n",
    "        training_loop = create_tqdm_bar(train_loader, desc=f'Training Epoch [{epoch}/{epochs}]')\n",
    "        training_loss = 0\n",
    "        for train_iteration, batch in training_loop:\n",
    "            \n",
    "            loss = model.training_step(batch, loss_func) # You need to implement this function.\n",
    "            training_loss += loss.item()\n",
    "            scheduler.step()\n",
    "\n",
    "            # Update the progress bar.\n",
    "            training_loop.set_postfix(train_loss = \"{:.8f}\".format(training_loss / (train_iteration + 1)), val_loss = \"{:.8f}\".format(validation_loss))\n",
    "\n",
    "            # Update the tensorboard logger.\n",
    "            tb_logger.add_scalar(f'{name}/train_loss', loss.item(), epoch * len(train_loader) + train_iteration)\n",
    "\n",
    "        # Validation\n",
    "        val_loop = create_tqdm_bar(val_loader, desc=f'Validation Epoch [{epoch}/{epochs}]')\n",
    "        validation_loss = 0\n",
    "        with torch.no_grad():\n",
    "            for val_iteration, batch in val_loop:\n",
    "                loss = model.validation_step(batch, loss_func) # You need to implement this function.\n",
    "                validation_loss += loss.item()\n",
    "\n",
    "                # Update the progress bar.\n",
    "                val_loop.set_postfix(val_loss = \"{:.8f}\".format(validation_loss / (val_iteration + 1)))\n",
    "\n",
    "                # Update the tensorboard logger.\n",
    "                tb_logger.add_scalar(f'{name}/val_loss', validation_loss / (val_iteration + 1), epoch * len(val_loader) + val_iteration)\n",
    "        # This value is for the progress bar of the training loop.\n",
    "        validation_loss /= len(val_loader)\n",
    "\n",
    "# Create a tensorboard logger.\n",
    "# NOTE: In order to see the logs, run the following command in the terminal: tensorboard --logdir=./\n",
    "# Also, in order to reset the logs, delete the logs folder MANUALLY.\n",
    "\n",
    "path = os.path.join('logs', 'ae_logs')\n",
    "num_of_runs = len(os.listdir(path)) if os.path.exists(path) else 0\n",
    "path = os.path.join(path, f'run_{num_of_runs + 1}')\n",
    "tb_logger = SummaryWriter(path)\n",
    "\n",
    "# Train the classifier.\n",
    "unlabled_train_loader = torch.utils.data.DataLoader(unlabeled_train, batch_size=hparams['batch_size'], shuffle=True)\n",
    "unlabled_val_loader = torch.utils.data.DataLoader(unlabeled_val, batch_size=hparams['batch_size'], shuffle=False)\n",
    "\n",
    "epochs = hparams.get('epochs', 5)\n",
    "loss_func = nn.MSELoss() # The loss function we use for regression (Could also be nn.L1Loss()).\n",
    "train_model(autoencoder, unlabled_train_loader, unlabled_val_loader, loss_func, tb_logger, epochs=epochs, name='Autoencoder')\n",
    "\n",
    "print(\"Finished training!\")"
   ]
  },
  {
   "attachments": {},
   "cell_type": "markdown",
   "metadata": {
    "id": "vdgiYWy4MNkq"
   },
   "source": [
    "Once trained, let's have a look at the reconstructed validation images (If you have not already looked at them in TensorBoard)."
   ]
  },
  {
   "cell_type": "code",
   "execution_count": 100,
   "metadata": {
    "id": "a991mKcyMNkq"
   },
   "outputs": [
    {
     "data": {
      "image/png": "[encoded data removed]",
      "text/plain": [
       "<Figure size 1600x1600 with 64 Axes>"
      ]
     },
     "metadata": {},
     "output_type": "display_data"
    }
   ],
   "source": [
    "reconstructions = autoencoder.getReconstructions(unlabled_val_loader)\n",
    "for i in range(64):\n",
    "    plt.subplot(8,8,i+1)\n",
    "    plt.axis('off')\n",
    "    plt.imshow(reconstructions[i], cmap='gray', interpolation='none')\n",
    "    \n",
    "plt.tight_layout()"
   ]
  },
  {
   "attachments": {},
   "cell_type": "markdown",
   "metadata": {
    "id": "R2hrP5b1MNkr"
   },
   "source": [
    "# 4. Transfer Learning\n",
    "\n",
    "## 4.1 The pretrained Classifier\n",
    "\n",
    "Now we initialize another classifier but this time with the pretrained encoder."
   ]
  },
  {
   "cell_type": "code",
   "execution_count": 106,
   "metadata": {
    "id": "OELYQAUmMNkr"
   },
   "outputs": [],
   "source": [
    "from exercise_code.models import Classifier\n",
    "from copy import deepcopy\n",
    "\n",
    "hparams = {\n",
    "        \"batch_size\": 256,\n",
    "        \"learning_rate\": 1e-3,\n",
    "        \"n_hidden\": 180,\n",
    "        \"input_size\": 1 * 28 * 28,\n",
    "        \"num_classes\":  10,\n",
    "        \"num_workers\": 2,\n",
    "        \"epochs\": 120,\n",
    "        \"dropout\": 0.2,\n",
    "        \"device\": device\n",
    "        }\n",
    "########################################################################\n",
    "# TODO: Define your hyperparameters here!                             #\n",
    "########################################################################\n",
    "\n",
    "\n",
    "########################################################################\n",
    "#                           END OF YOUR CODE                           #\n",
    "########################################################################\n",
    "\n",
    "encoder_pretrained_copy = deepcopy(encoder_pretrained)\n",
    "classifier_pretrained = Classifier(hparams, encoder_pretrained_copy).to(device)"
   ]
  },
  {
   "attachments": {},
   "cell_type": "markdown",
   "metadata": {
    "id": "R8FUtih6MNks"
   },
   "source": [
    "Let's define another trainer that will utilize the pretrained classifier, allowing us to compare its performance with the classifier trained only on the labeled data. To achieve a reasonable result, you may need to optimize the parameters you defined earlier."
   ]
  },
  {
   "cell_type": "code",
   "execution_count": 107,
   "metadata": {
    "id": "Mx_euorWMNks"
   },
   "outputs": [
    {
     "name": "stderr",
     "output_type": "stream",
     "text": [
      "Training Epoch [1/120]: 100%|██████████████████████████████████████████| 1/1 [00:00<00:00,  8.23it/s, curr_train_loss=3.55190635, val_loss=0.00000000]\n",
      "Validation Epoch [1/120]: 100%|████████████████████████████████████████████████████████████████████| 1/1 [00:00<00:00,  9.14it/s, val_loss=3.50728083]\n",
      "Training Epoch [2/120]: 100%|██████████████████████████████████████████| 1/1 [00:00<00:00,  8.52it/s, curr_train_loss=3.17398930, val_loss=3.50728083]\n",
      "Validation Epoch [2/120]: 100%|████████████████████████████████████████████████████████████████████| 1/1 [00:00<00:00,  9.32it/s, val_loss=3.30602741]\n",
      "Training Epoch [3/120]: 100%|██████████████████████████████████████████| 1/1 [00:00<00:00,  8.19it/s, curr_train_loss=2.82898903, val_loss=3.30602741]\n",
      "Validation Epoch [3/120]: 100%|████████████████████████████████████████████████████████████████████| 1/1 [00:00<00:00,  9.31it/s, val_loss=3.12386990]\n",
      "Training Epoch [4/120]: 100%|██████████████████████████████████████████| 1/1 [00:00<00:00,  8.27it/s, curr_train_loss=2.51803112, val_loss=3.12386990]\n",
      "Validation Epoch [4/120]: 100%|████████████████████████████████████████████████████████████████████| 1/1 [00:00<00:00,  9.38it/s, val_loss=2.95830894]\n",
      "Training Epoch [5/120]: 100%|██████████████████████████████████████████| 1/1 [00:00<00:00,  8.45it/s, curr_train_loss=2.24061584, val_loss=2.95830894]\n",
      "Validation Epoch [5/120]: 100%|████████████████████████████████████████████████████████████████████| 1/1 [00:00<00:00,  9.31it/s, val_loss=2.80797243]\n",
      "Training Epoch [6/120]: 100%|██████████████████████████████████████████| 1/1 [00:00<00:00,  8.30it/s, curr_train_loss=1.99468660, val_loss=2.80797243]\n",
      "Validation Epoch [6/120]: 100%|████████████████████████████████████████████████████████████████████| 1/1 [00:00<00:00,  9.39it/s, val_loss=2.67100859]\n",
      "Training Epoch [7/120]: 100%|██████████████████████████████████████████| 1/1 [00:00<00:00,  8.04it/s, curr_train_loss=1.77911496, val_loss=2.67100859]\n",
      "Validation Epoch [7/120]: 100%|████████████████████████████████████████████████████████████████████| 1/1 [00:00<00:00,  9.18it/s, val_loss=2.54488993]\n",
      "Training Epoch [8/120]: 100%|██████████████████████████████████████████| 1/1 [00:00<00:00,  8.26it/s, curr_train_loss=1.59116483, val_loss=2.54488993]\n",
      "Validation Epoch [8/120]: 100%|████████████████████████████████████████████████████████████████████| 1/1 [00:00<00:00,  9.16it/s, val_loss=2.42893457]\n",
      "Training Epoch [9/120]: 100%|██████████████████████████████████████████| 1/1 [00:00<00:00,  8.53it/s, curr_train_loss=1.42621851, val_loss=2.42893457]\n",
      "Validation Epoch [9/120]: 100%|████████████████████████████████████████████████████████████████████| 1/1 [00:00<00:00,  9.05it/s, val_loss=2.32228518]\n",
      "Training Epoch [10/120]: 100%|█████████████████████████████████████████| 1/1 [00:00<00:00,  8.45it/s, curr_train_loss=1.28140330, val_loss=2.32228518]\n",
      "Validation Epoch [10/120]: 100%|███████████████████████████████████████████████████████████████████| 1/1 [00:00<00:00,  9.29it/s, val_loss=2.22380733]\n",
      "Training Epoch [11/120]: 100%|█████████████████████████████████████████| 1/1 [00:00<00:00,  8.47it/s, curr_train_loss=1.15347278, val_loss=2.22380733]\n",
      "Validation Epoch [11/120]: 100%|███████████████████████████████████████████████████████████████████| 1/1 [00:00<00:00,  9.16it/s, val_loss=2.13309479]\n",
      "Training Epoch [12/120]: 100%|█████████████████████████████████████████| 1/1 [00:00<00:00,  8.52it/s, curr_train_loss=1.04016650, val_loss=2.13309479]\n",
      "Validation Epoch [12/120]: 100%|███████████████████████████████████████████████████████████████████| 1/1 [00:00<00:00,  9.33it/s, val_loss=2.04918814]\n",
      "Training Epoch [13/120]: 100%|█████████████████████████████████████████| 1/1 [00:00<00:00,  8.46it/s, curr_train_loss=0.93956405, val_loss=2.04918814]\n",
      "Validation Epoch [13/120]: 100%|███████████████████████████████████████████████████████████████████| 1/1 [00:00<00:00,  9.28it/s, val_loss=1.97169530]\n",
      "Training Epoch [14/120]: 100%|█████████████████████████████████████████| 1/1 [00:00<00:00,  8.23it/s, curr_train_loss=0.84993857, val_loss=1.97169530]\n",
      "Validation Epoch [14/120]: 100%|███████████████████████████████████████████████████████████████████| 1/1 [00:00<00:00,  9.34it/s, val_loss=1.90067327]\n",
      "Training Epoch [15/120]: 100%|█████████████████████████████████████████| 1/1 [00:00<00:00,  8.33it/s, curr_train_loss=0.77021432, val_loss=1.90067327]\n",
      "Validation Epoch [15/120]: 100%|███████████████████████████████████████████████████████████████████| 1/1 [00:00<00:00,  8.80it/s, val_loss=1.83562911]\n",
      "Training Epoch [16/120]: 100%|█████████████████████████████████████████| 1/1 [00:00<00:00,  8.08it/s, curr_train_loss=0.69901204, val_loss=1.83562911]\n",
      "Validation Epoch [16/120]: 100%|███████████████████████████████████████████████████████████████████| 1/1 [00:00<00:00,  8.83it/s, val_loss=1.77613139]\n",
      "Training Epoch [17/120]: 100%|█████████████████████████████████████████| 1/1 [00:00<00:00,  8.03it/s, curr_train_loss=0.63533407, val_loss=1.77613139]\n",
      "Validation Epoch [17/120]: 100%|███████████████████████████████████████████████████████████████████| 1/1 [00:00<00:00,  9.34it/s, val_loss=1.72178662]\n",
      "Training Epoch [18/120]: 100%|█████████████████████████████████████████| 1/1 [00:00<00:00,  8.17it/s, curr_train_loss=0.57889020, val_loss=1.72178662]\n",
      "Validation Epoch [18/120]: 100%|███████████████████████████████████████████████████████████████████| 1/1 [00:00<00:00,  9.30it/s, val_loss=1.67174590]\n",
      "Training Epoch [19/120]: 100%|█████████████████████████████████████████| 1/1 [00:00<00:00,  8.27it/s, curr_train_loss=0.52826798, val_loss=1.67174590]\n",
      "Validation Epoch [19/120]: 100%|███████████████████████████████████████████████████████████████████| 1/1 [00:00<00:00,  9.19it/s, val_loss=1.62526381]\n",
      "Training Epoch [20/120]: 100%|█████████████████████████████████████████| 1/1 [00:00<00:00,  8.12it/s, curr_train_loss=0.48302269, val_loss=1.62526381]\n",
      "Validation Epoch [20/120]: 100%|███████████████████████████████████████████████████████████████████| 1/1 [00:00<00:00,  8.98it/s, val_loss=1.58216131]\n",
      "Training Epoch [21/120]: 100%|█████████████████████████████████████████| 1/1 [00:00<00:00,  8.17it/s, curr_train_loss=0.44217262, val_loss=1.58216131]\n",
      "Validation Epoch [21/120]: 100%|███████████████████████████████████████████████████████████████████| 1/1 [00:00<00:00,  8.98it/s, val_loss=1.54230678]\n",
      "Training Epoch [22/120]: 100%|█████████████████████████████████████████| 1/1 [00:00<00:00,  7.69it/s, curr_train_loss=0.40528676, val_loss=1.54230678]\n",
      "Validation Epoch [22/120]: 100%|███████████████████████████████████████████████████████████████████| 1/1 [00:00<00:00,  9.30it/s, val_loss=1.50470519]\n",
      "Training Epoch [23/120]: 100%|█████████████████████████████████████████| 1/1 [00:00<00:00,  8.40it/s, curr_train_loss=0.37171689, val_loss=1.50470519]\n",
      "Validation Epoch [23/120]: 100%|███████████████████████████████████████████████████████████████████| 1/1 [00:00<00:00,  9.34it/s, val_loss=1.46951604]\n",
      "Training Epoch [24/120]: 100%|█████████████████████████████████████████| 1/1 [00:00<00:00,  8.59it/s, curr_train_loss=0.34119296, val_loss=1.46951604]\n",
      "Validation Epoch [24/120]: 100%|███████████████████████████████████████████████████████████████████| 1/1 [00:00<00:00,  9.30it/s, val_loss=1.43615723]\n",
      "Training Epoch [25/120]: 100%|█████████████████████████████████████████| 1/1 [00:00<00:00,  8.18it/s, curr_train_loss=0.31347311, val_loss=1.43615723]\n",
      "Validation Epoch [25/120]: 100%|███████████████████████████████████████████████████████████████████| 1/1 [00:00<00:00,  9.27it/s, val_loss=1.40456009]\n",
      "Training Epoch [26/120]: 100%|█████████████████████████████████████████| 1/1 [00:00<00:00,  8.37it/s, curr_train_loss=0.28813064, val_loss=1.40456009]\n",
      "Validation Epoch [26/120]: 100%|███████████████████████████████████████████████████████████████████| 1/1 [00:00<00:00,  9.12it/s, val_loss=1.37479794]\n",
      "Training Epoch [27/120]: 100%|█████████████████████████████████████████| 1/1 [00:00<00:00,  8.13it/s, curr_train_loss=0.26499090, val_loss=1.37479794]\n",
      "Validation Epoch [27/120]: 100%|███████████████████████████████████████████████████████████████████| 1/1 [00:00<00:00,  9.21it/s, val_loss=1.34671843]\n",
      "Training Epoch [28/120]: 100%|█████████████████████████████████████████| 1/1 [00:00<00:00,  6.84it/s, curr_train_loss=0.24379316, val_loss=1.34671843]\n",
      "Validation Epoch [28/120]: 100%|███████████████████████████████████████████████████████████████████| 1/1 [00:00<00:00,  8.90it/s, val_loss=1.32013309]\n",
      "Training Epoch [29/120]: 100%|█████████████████████████████████████████| 1/1 [00:00<00:00,  7.77it/s, curr_train_loss=0.22449934, val_loss=1.32013309]\n",
      "Validation Epoch [29/120]: 100%|███████████████████████████████████████████████████████████████████| 1/1 [00:00<00:00,  9.31it/s, val_loss=1.29505050]\n",
      "Training Epoch [30/120]: 100%|█████████████████████████████████████████| 1/1 [00:00<00:00,  8.96it/s, curr_train_loss=0.20693608, val_loss=1.29505050]\n",
      "Validation Epoch [30/120]: 100%|███████████████████████████████████████████████████████████████████| 1/1 [00:00<00:00,  9.30it/s, val_loss=1.27139282]\n",
      "Training Epoch [31/120]: 100%|█████████████████████████████████████████| 1/1 [00:00<00:00,  8.20it/s, curr_train_loss=0.19090775, val_loss=1.27139282]\n",
      "Validation Epoch [31/120]: 100%|███████████████████████████████████████████████████████████████████| 1/1 [00:00<00:00,  9.27it/s, val_loss=1.24917603]\n",
      "Training Epoch [32/120]: 100%|█████████████████████████████████████████| 1/1 [00:00<00:00,  9.18it/s, curr_train_loss=0.17627037, val_loss=1.24917603]\n",
      "Validation Epoch [32/120]: 100%|███████████████████████████████████████████████████████████████████| 1/1 [00:00<00:00,  9.31it/s, val_loss=1.22823298]\n",
      "Training Epoch [33/120]: 100%|█████████████████████████████████████████| 1/1 [00:00<00:00,  9.17it/s, curr_train_loss=0.16292293, val_loss=1.22823298]\n",
      "Validation Epoch [33/120]: 100%|███████████████████████████████████████████████████████████████████| 1/1 [00:00<00:00,  9.26it/s, val_loss=1.20862317]\n",
      "Training Epoch [34/120]: 100%|█████████████████████████████████████████| 1/1 [00:00<00:00,  9.21it/s, curr_train_loss=0.15078291, val_loss=1.20862317]\n",
      "Validation Epoch [34/120]: 100%|███████████████████████████████████████████████████████████████████| 1/1 [00:00<00:00,  9.41it/s, val_loss=1.19030797]\n",
      "Training Epoch [35/120]: 100%|█████████████████████████████████████████| 1/1 [00:00<00:00,  9.20it/s, curr_train_loss=0.13969618, val_loss=1.19030797]\n",
      "Validation Epoch [35/120]: 100%|███████████████████████████████████████████████████████████████████| 1/1 [00:00<00:00,  9.40it/s, val_loss=1.17318356]\n",
      "Training Epoch [36/120]: 100%|█████████████████████████████████████████| 1/1 [00:00<00:00,  9.20it/s, curr_train_loss=0.12960801, val_loss=1.17318356]\n",
      "Validation Epoch [36/120]: 100%|███████████████████████████████████████████████████████████████████| 1/1 [00:00<00:00,  9.43it/s, val_loss=1.15726888]\n",
      "Training Epoch [37/120]: 100%|█████████████████████████████████████████| 1/1 [00:00<00:00,  9.18it/s, curr_train_loss=0.12038976, val_loss=1.15726888]\n",
      "Validation Epoch [37/120]: 100%|███████████████████████████████████████████████████████████████████| 1/1 [00:00<00:00,  9.41it/s, val_loss=1.14253151]\n",
      "Training Epoch [38/120]: 100%|█████████████████████████████████████████| 1/1 [00:00<00:00,  9.18it/s, curr_train_loss=0.11198034, val_loss=1.14253151]\n",
      "Validation Epoch [38/120]: 100%|███████████████████████████████████████████████████████████████████| 1/1 [00:00<00:00,  9.45it/s, val_loss=1.12878418]\n",
      "Training Epoch [39/120]: 100%|█████████████████████████████████████████| 1/1 [00:00<00:00,  9.19it/s, curr_train_loss=0.10432030, val_loss=1.12878418]\n",
      "Validation Epoch [39/120]: 100%|███████████████████████████████████████████████████████████████████| 1/1 [00:00<00:00,  9.46it/s, val_loss=1.11589527]\n",
      "Training Epoch [40/120]: 100%|█████████████████████████████████████████| 1/1 [00:00<00:00,  9.14it/s, curr_train_loss=0.09733948, val_loss=1.11589527]\n",
      "Validation Epoch [40/120]: 100%|███████████████████████████████████████████████████████████████████| 1/1 [00:00<00:00,  9.37it/s, val_loss=1.10394990]\n",
      "Training Epoch [41/120]: 100%|█████████████████████████████████████████| 1/1 [00:00<00:00,  9.25it/s, curr_train_loss=0.09095905, val_loss=1.10394990]\n",
      "Validation Epoch [41/120]: 100%|███████████████████████████████████████████████████████████████████| 1/1 [00:00<00:00,  9.24it/s, val_loss=1.09286594]\n",
      "Training Epoch [42/120]: 100%|█████████████████████████████████████████| 1/1 [00:00<00:00,  9.06it/s, curr_train_loss=0.08510958, val_loss=1.09286594]\n",
      "Validation Epoch [42/120]: 100%|███████████████████████████████████████████████████████████████████| 1/1 [00:00<00:00,  9.27it/s, val_loss=1.08258665]\n",
      "Training Epoch [43/120]: 100%|█████████████████████████████████████████| 1/1 [00:00<00:00,  9.16it/s, curr_train_loss=0.07974166, val_loss=1.08258665]\n",
      "Validation Epoch [43/120]: 100%|███████████████████████████████████████████████████████████████████| 1/1 [00:00<00:00,  9.40it/s, val_loss=1.07311320]\n",
      "Training Epoch [44/120]: 100%|█████████████████████████████████████████| 1/1 [00:00<00:00,  9.20it/s, curr_train_loss=0.07482792, val_loss=1.07311320]\n",
      "Validation Epoch [44/120]: 100%|███████████████████████████████████████████████████████████████████| 1/1 [00:00<00:00,  9.27it/s, val_loss=1.06439722]\n",
      "Training Epoch [45/120]: 100%|█████████████████████████████████████████| 1/1 [00:00<00:00,  9.21it/s, curr_train_loss=0.07032329, val_loss=1.06439722]\n",
      "Validation Epoch [45/120]: 100%|███████████████████████████████████████████████████████████████████| 1/1 [00:00<00:00,  9.41it/s, val_loss=1.05625665]\n",
      "Training Epoch [46/120]: 100%|█████████████████████████████████████████| 1/1 [00:00<00:00,  9.13it/s, curr_train_loss=0.06618630, val_loss=1.05625665]\n",
      "Validation Epoch [46/120]: 100%|███████████████████████████████████████████████████████████████████| 1/1 [00:00<00:00,  9.34it/s, val_loss=1.04875541]\n",
      "Training Epoch [47/120]: 100%|█████████████████████████████████████████| 1/1 [00:00<00:00,  9.13it/s, curr_train_loss=0.06238376, val_loss=1.04875541]\n",
      "Validation Epoch [47/120]: 100%|███████████████████████████████████████████████████████████████████| 1/1 [00:00<00:00,  9.29it/s, val_loss=1.04184389]\n",
      "Training Epoch [48/120]: 100%|█████████████████████████████████████████| 1/1 [00:00<00:00,  9.23it/s, curr_train_loss=0.05887420, val_loss=1.04184389]\n",
      "Validation Epoch [48/120]: 100%|███████████████████████████████████████████████████████████████████| 1/1 [00:00<00:00,  9.39it/s, val_loss=1.03540409]\n",
      "Training Epoch [49/120]: 100%|█████████████████████████████████████████| 1/1 [00:00<00:00,  9.12it/s, curr_train_loss=0.05564342, val_loss=1.03540409]\n",
      "Validation Epoch [49/120]: 100%|███████████████████████████████████████████████████████████████████| 1/1 [00:00<00:00,  9.42it/s, val_loss=1.02941179]\n",
      "Training Epoch [50/120]: 100%|█████████████████████████████████████████| 1/1 [00:00<00:00,  9.16it/s, curr_train_loss=0.05266118, val_loss=1.02941179]\n",
      "Validation Epoch [50/120]: 100%|███████████████████████████████████████████████████████████████████| 1/1 [00:00<00:00,  9.25it/s, val_loss=1.02382302]\n",
      "Training Epoch [51/120]: 100%|█████████████████████████████████████████| 1/1 [00:00<00:00,  9.23it/s, curr_train_loss=0.04990918, val_loss=1.02382302]\n",
      "Validation Epoch [51/120]: 100%|███████████████████████████████████████████████████████████████████| 1/1 [00:00<00:00,  9.34it/s, val_loss=1.01870501]\n",
      "Training Epoch [52/120]: 100%|█████████████████████████████████████████| 1/1 [00:00<00:00,  9.16it/s, curr_train_loss=0.04736460, val_loss=1.01870501]\n",
      "Validation Epoch [52/120]: 100%|███████████████████████████████████████████████████████████████████| 1/1 [00:00<00:00,  9.35it/s, val_loss=1.01401472]\n",
      "Training Epoch [53/120]: 100%|█████████████████████████████████████████| 1/1 [00:00<00:00,  9.10it/s, curr_train_loss=0.04500504, val_loss=1.01401472]\n",
      "Validation Epoch [53/120]: 100%|███████████████████████████████████████████████████████████████████| 1/1 [00:00<00:00,  9.39it/s, val_loss=1.00972438]\n",
      "Training Epoch [54/120]: 100%|█████████████████████████████████████████| 1/1 [00:00<00:00,  9.08it/s, curr_train_loss=0.04281904, val_loss=1.00972438]\n",
      "Validation Epoch [54/120]: 100%|███████████████████████████████████████████████████████████████████| 1/1 [00:00<00:00,  9.36it/s, val_loss=1.00582767]\n",
      "Training Epoch [55/120]: 100%|█████████████████████████████████████████| 1/1 [00:00<00:00,  9.14it/s, curr_train_loss=0.04079273, val_loss=1.00582767]\n",
      "Validation Epoch [55/120]: 100%|███████████████████████████████████████████████████████████████████| 1/1 [00:00<00:00,  9.34it/s, val_loss=1.00229549]\n",
      "Training Epoch [56/120]: 100%|█████████████████████████████████████████| 1/1 [00:00<00:00,  9.12it/s, curr_train_loss=0.03891449, val_loss=1.00229549]\n",
      "Validation Epoch [56/120]: 100%|███████████████████████████████████████████████████████████████████| 1/1 [00:00<00:00,  9.36it/s, val_loss=0.99907821]\n",
      "Training Epoch [57/120]: 100%|█████████████████████████████████████████| 1/1 [00:00<00:00,  9.17it/s, curr_train_loss=0.03716883, val_loss=0.99907821]\n",
      "Validation Epoch [57/120]: 100%|███████████████████████████████████████████████████████████████████| 1/1 [00:00<00:00,  9.35it/s, val_loss=0.99616838]\n",
      "Training Epoch [58/120]: 100%|█████████████████████████████████████████| 1/1 [00:00<00:00,  9.23it/s, curr_train_loss=0.03554152, val_loss=0.99616838]\n",
      "Validation Epoch [58/120]: 100%|███████████████████████████████████████████████████████████████████| 1/1 [00:00<00:00,  9.42it/s, val_loss=0.99357927]\n",
      "Training Epoch [59/120]: 100%|█████████████████████████████████████████| 1/1 [00:00<00:00,  9.20it/s, curr_train_loss=0.03402249, val_loss=0.99357927]\n",
      "Validation Epoch [59/120]: 100%|███████████████████████████████████████████████████████████████████| 1/1 [00:00<00:00,  9.35it/s, val_loss=0.99127167]\n",
      "Training Epoch [60/120]: 100%|█████████████████████████████████████████| 1/1 [00:00<00:00,  9.15it/s, curr_train_loss=0.03260352, val_loss=0.99127167]\n",
      "Validation Epoch [60/120]: 100%|███████████████████████████████████████████████████████████████████| 1/1 [00:00<00:00,  9.27it/s, val_loss=0.98920381]\n",
      "Training Epoch [61/120]: 100%|█████████████████████████████████████████| 1/1 [00:00<00:00,  9.15it/s, curr_train_loss=0.03127658, val_loss=0.98920381]\n",
      "Validation Epoch [61/120]: 100%|███████████████████████████████████████████████████████████████████| 1/1 [00:00<00:00,  9.48it/s, val_loss=0.98736376]\n",
      "Training Epoch [62/120]: 100%|█████████████████████████████████████████| 1/1 [00:00<00:00,  9.24it/s, curr_train_loss=0.03003526, val_loss=0.98736376]\n",
      "Validation Epoch [62/120]: 100%|███████████████████████████████████████████████████████████████████| 1/1 [00:00<00:00,  9.41it/s, val_loss=0.98573869]\n",
      "Training Epoch [63/120]: 100%|█████████████████████████████████████████| 1/1 [00:00<00:00,  9.26it/s, curr_train_loss=0.02887390, val_loss=0.98573869]\n",
      "Validation Epoch [63/120]: 100%|███████████████████████████████████████████████████████████████████| 1/1 [00:00<00:00,  9.47it/s, val_loss=0.98430926]\n",
      "Training Epoch [64/120]: 100%|█████████████████████████████████████████| 1/1 [00:00<00:00,  9.17it/s, curr_train_loss=0.02778632, val_loss=0.98430926]\n",
      "Validation Epoch [64/120]: 100%|███████████████████████████████████████████████████████████████████| 1/1 [00:00<00:00,  9.43it/s, val_loss=0.98304856]\n",
      "Training Epoch [65/120]: 100%|█████████████████████████████████████████| 1/1 [00:00<00:00,  9.04it/s, curr_train_loss=0.02676873, val_loss=0.98304856]\n",
      "Validation Epoch [65/120]: 100%|███████████████████████████████████████████████████████████████████| 1/1 [00:00<00:00,  9.38it/s, val_loss=0.98192877]\n",
      "Training Epoch [66/120]: 100%|█████████████████████████████████████████| 1/1 [00:00<00:00,  9.12it/s, curr_train_loss=0.02581306, val_loss=0.98192877]\n",
      "Validation Epoch [66/120]: 100%|███████████████████████████████████████████████████████████████████| 1/1 [00:00<00:00,  9.30it/s, val_loss=0.98094797]\n",
      "Training Epoch [67/120]: 100%|█████████████████████████████████████████| 1/1 [00:00<00:00,  8.93it/s, curr_train_loss=0.02491418, val_loss=0.98094797]\n",
      "Validation Epoch [67/120]: 100%|███████████████████████████████████████████████████████████████████| 1/1 [00:00<00:00,  9.38it/s, val_loss=0.98008353]\n",
      "Training Epoch [68/120]: 100%|█████████████████████████████████████████| 1/1 [00:00<00:00,  9.13it/s, curr_train_loss=0.02406886, val_loss=0.98008353]\n",
      "Validation Epoch [68/120]: 100%|███████████████████████████████████████████████████████████████████| 1/1 [00:00<00:00,  9.40it/s, val_loss=0.97931308]\n",
      "Training Epoch [69/120]: 100%|█████████████████████████████████████████| 1/1 [00:00<00:00,  9.25it/s, curr_train_loss=0.02327197, val_loss=0.97931308]\n",
      "Validation Epoch [69/120]: 100%|███████████████████████████████████████████████████████████████████| 1/1 [00:00<00:00,  9.41it/s, val_loss=0.97863954]\n",
      "Training Epoch [70/120]: 100%|█████████████████████████████████████████| 1/1 [00:00<00:00,  9.10it/s, curr_train_loss=0.02252129, val_loss=0.97863954]\n",
      "Validation Epoch [70/120]: 100%|███████████████████████████████████████████████████████████████████| 1/1 [00:00<00:00,  9.34it/s, val_loss=0.97804648]\n",
      "Training Epoch [71/120]: 100%|█████████████████████████████████████████| 1/1 [00:00<00:00,  9.17it/s, curr_train_loss=0.02181198, val_loss=0.97804648]\n",
      "Validation Epoch [71/120]: 100%|███████████████████████████████████████████████████████████████████| 1/1 [00:00<00:00,  9.45it/s, val_loss=0.97754061]\n",
      "Training Epoch [72/120]: 100%|█████████████████████████████████████████| 1/1 [00:00<00:00,  9.20it/s, curr_train_loss=0.02114134, val_loss=0.97754061]\n",
      "Validation Epoch [72/120]: 100%|███████████████████████████████████████████████████████████████████| 1/1 [00:00<00:00,  9.38it/s, val_loss=0.97710723]\n",
      "Training Epoch [73/120]: 100%|█████████████████████████████████████████| 1/1 [00:00<00:00,  9.17it/s, curr_train_loss=0.02050593, val_loss=0.97710723]\n",
      "Validation Epoch [73/120]: 100%|███████████████████████████████████████████████████████████████████| 1/1 [00:00<00:00,  9.43it/s, val_loss=0.97674209]\n",
      "Training Epoch [74/120]: 100%|█████████████████████████████████████████| 1/1 [00:00<00:00,  9.10it/s, curr_train_loss=0.01990343, val_loss=0.97674209]\n",
      "Validation Epoch [74/120]: 100%|███████████████████████████████████████████████████████████████████| 1/1 [00:00<00:00,  9.35it/s, val_loss=0.97644019]\n",
      "Training Epoch [75/120]: 100%|█████████████████████████████████████████| 1/1 [00:00<00:00,  9.11it/s, curr_train_loss=0.01933129, val_loss=0.97644019]\n",
      "Validation Epoch [75/120]: 100%|███████████████████████████████████████████████████████████████████| 1/1 [00:00<00:00,  9.38it/s, val_loss=0.97619838]\n",
      "Training Epoch [76/120]: 100%|█████████████████████████████████████████| 1/1 [00:00<00:00,  9.09it/s, curr_train_loss=0.01878810, val_loss=0.97619838]\n",
      "Validation Epoch [76/120]: 100%|███████████████████████████████████████████████████████████████████| 1/1 [00:00<00:00,  9.34it/s, val_loss=0.97603196]\n",
      "Training Epoch [77/120]: 100%|█████████████████████████████████████████| 1/1 [00:00<00:00,  9.16it/s, curr_train_loss=0.01827168, val_loss=0.97603196]\n",
      "Validation Epoch [77/120]: 100%|███████████████████████████████████████████████████████████████████| 1/1 [00:00<00:00,  9.42it/s, val_loss=0.97592568]\n",
      "Training Epoch [78/120]: 100%|█████████████████████████████████████████| 1/1 [00:00<00:00,  9.27it/s, curr_train_loss=0.01777999, val_loss=0.97592568]\n",
      "Validation Epoch [78/120]: 100%|███████████████████████████████████████████████████████████████████| 1/1 [00:00<00:00,  9.37it/s, val_loss=0.97585976]\n",
      "Training Epoch [79/120]: 100%|█████████████████████████████████████████| 1/1 [00:00<00:00,  9.22it/s, curr_train_loss=0.01731138, val_loss=0.97585976]\n",
      "Validation Epoch [79/120]: 100%|███████████████████████████████████████████████████████████████████| 1/1 [00:00<00:00,  9.45it/s, val_loss=0.97584403]\n",
      "Training Epoch [80/120]: 100%|█████████████████████████████████████████| 1/1 [00:00<00:00,  9.09it/s, curr_train_loss=0.01686447, val_loss=0.97584403]\n",
      "Validation Epoch [80/120]: 100%|███████████████████████████████████████████████████████████████████| 1/1 [00:00<00:00,  9.23it/s, val_loss=0.97586203]\n",
      "Training Epoch [81/120]: 100%|█████████████████████████████████████████| 1/1 [00:00<00:00,  9.19it/s, curr_train_loss=0.01643758, val_loss=0.97586203]\n",
      "Validation Epoch [81/120]: 100%|███████████████████████████████████████████████████████████████████| 1/1 [00:00<00:00,  9.26it/s, val_loss=0.97591698]\n",
      "Training Epoch [82/120]: 100%|█████████████████████████████████████████| 1/1 [00:00<00:00,  9.16it/s, curr_train_loss=0.01602956, val_loss=0.97591698]\n",
      "Validation Epoch [82/120]: 100%|███████████████████████████████████████████████████████████████████| 1/1 [00:00<00:00,  9.36it/s, val_loss=0.97600448]\n",
      "Training Epoch [83/120]: 100%|█████████████████████████████████████████| 1/1 [00:00<00:00,  9.08it/s, curr_train_loss=0.01563916, val_loss=0.97600448]\n",
      "Validation Epoch [83/120]: 100%|███████████████████████████████████████████████████████████████████| 1/1 [00:00<00:00,  9.14it/s, val_loss=0.97612798]\n",
      "Training Epoch [84/120]: 100%|█████████████████████████████████████████| 1/1 [00:00<00:00,  9.21it/s, curr_train_loss=0.01526526, val_loss=0.97612798]\n",
      "Validation Epoch [84/120]: 100%|███████████████████████████████████████████████████████████████████| 1/1 [00:00<00:00,  9.43it/s, val_loss=0.97628438]\n",
      "Training Epoch [85/120]: 100%|█████████████████████████████████████████| 1/1 [00:00<00:00,  9.21it/s, curr_train_loss=0.01490720, val_loss=0.97628438]\n",
      "Validation Epoch [85/120]: 100%|███████████████████████████████████████████████████████████████████| 1/1 [00:00<00:00,  9.37it/s, val_loss=0.97646827]\n",
      "Training Epoch [86/120]: 100%|█████████████████████████████████████████| 1/1 [00:00<00:00,  9.06it/s, curr_train_loss=0.01456412, val_loss=0.97646827]\n",
      "Validation Epoch [86/120]: 100%|███████████████████████████████████████████████████████████████████| 1/1 [00:00<00:00,  9.41it/s, val_loss=0.97667336]\n",
      "Training Epoch [87/120]: 100%|█████████████████████████████████████████| 1/1 [00:00<00:00,  9.09it/s, curr_train_loss=0.01423492, val_loss=0.97667336]\n",
      "Validation Epoch [87/120]: 100%|███████████████████████████████████████████████████████████████████| 1/1 [00:00<00:00,  9.33it/s, val_loss=0.97690344]\n",
      "Training Epoch [88/120]: 100%|█████████████████████████████████████████| 1/1 [00:00<00:00,  9.24it/s, curr_train_loss=0.01391866, val_loss=0.97690344]\n",
      "Validation Epoch [88/120]: 100%|███████████████████████████████████████████████████████████████████| 1/1 [00:00<00:00,  9.39it/s, val_loss=0.97716135]\n",
      "Training Epoch [89/120]: 100%|█████████████████████████████████████████| 1/1 [00:00<00:00,  9.25it/s, curr_train_loss=0.01361469, val_loss=0.97716135]\n",
      "Validation Epoch [89/120]: 100%|███████████████████████████████████████████████████████████████████| 1/1 [00:00<00:00,  9.48it/s, val_loss=0.97742945]\n",
      "Training Epoch [90/120]: 100%|█████████████████████████████████████████| 1/1 [00:00<00:00,  9.26it/s, curr_train_loss=0.01332271, val_loss=0.97742945]\n",
      "Validation Epoch [90/120]: 100%|███████████████████████████████████████████████████████████████████| 1/1 [00:00<00:00,  9.48it/s, val_loss=0.97771156]\n",
      "Training Epoch [91/120]: 100%|█████████████████████████████████████████| 1/1 [00:00<00:00,  9.17it/s, curr_train_loss=0.01304160, val_loss=0.97771156]\n",
      "Validation Epoch [91/120]: 100%|███████████████████████████████████████████████████████████████████| 1/1 [00:00<00:00,  9.26it/s, val_loss=0.97799706]\n",
      "Training Epoch [92/120]: 100%|█████████████████████████████████████████| 1/1 [00:00<00:00,  9.25it/s, curr_train_loss=0.01277066, val_loss=0.97799706]\n",
      "Validation Epoch [92/120]: 100%|███████████████████████████████████████████████████████████████████| 1/1 [00:00<00:00,  9.38it/s, val_loss=0.97828245]\n",
      "Training Epoch [93/120]: 100%|█████████████████████████████████████████| 1/1 [00:00<00:00,  9.12it/s, curr_train_loss=0.01250950, val_loss=0.97828245]\n",
      "Validation Epoch [93/120]: 100%|███████████████████████████████████████████████████████████████████| 1/1 [00:00<00:00,  9.49it/s, val_loss=0.97856909]\n",
      "Training Epoch [94/120]: 100%|█████████████████████████████████████████| 1/1 [00:00<00:00,  9.31it/s, curr_train_loss=0.01225759, val_loss=0.97856909]\n",
      "Validation Epoch [94/120]: 100%|███████████████████████████████████████████████████████████████████| 1/1 [00:00<00:00,  9.44it/s, val_loss=0.97885984]\n",
      "Training Epoch [95/120]: 100%|█████████████████████████████████████████| 1/1 [00:00<00:00,  9.10it/s, curr_train_loss=0.01201432, val_loss=0.97885984]\n",
      "Validation Epoch [95/120]: 100%|███████████████████████████████████████████████████████████████████| 1/1 [00:00<00:00,  9.40it/s, val_loss=0.97915667]\n",
      "Training Epoch [96/120]: 100%|█████████████████████████████████████████| 1/1 [00:00<00:00,  9.20it/s, curr_train_loss=0.01177947, val_loss=0.97915667]\n",
      "Validation Epoch [96/120]: 100%|███████████████████████████████████████████████████████████████████| 1/1 [00:00<00:00,  9.35it/s, val_loss=0.97946578]\n",
      "Training Epoch [97/120]: 100%|█████████████████████████████████████████| 1/1 [00:00<00:00,  9.09it/s, curr_train_loss=0.01155267, val_loss=0.97946578]\n",
      "Validation Epoch [97/120]: 100%|███████████████████████████████████████████████████████████████████| 1/1 [00:00<00:00,  9.42it/s, val_loss=0.97979593]\n",
      "Training Epoch [98/120]: 100%|█████████████████████████████████████████| 1/1 [00:00<00:00,  9.23it/s, curr_train_loss=0.01133339, val_loss=0.97979593]\n",
      "Validation Epoch [98/120]: 100%|███████████████████████████████████████████████████████████████████| 1/1 [00:00<00:00,  9.39it/s, val_loss=0.98014230]\n",
      "Training Epoch [99/120]: 100%|█████████████████████████████████████████| 1/1 [00:00<00:00,  9.22it/s, curr_train_loss=0.01112097, val_loss=0.98014230]\n",
      "Validation Epoch [99/120]: 100%|███████████████████████████████████████████████████████████████████| 1/1 [00:00<00:00,  9.44it/s, val_loss=0.98050219]\n",
      "Training Epoch [100/120]: 100%|████████████████████████████████████████| 1/1 [00:00<00:00,  9.29it/s, curr_train_loss=0.01091538, val_loss=0.98050219]\n",
      "Validation Epoch [100/120]: 100%|██████████████████████████████████████████████████████████████████| 1/1 [00:00<00:00,  9.47it/s, val_loss=0.98086303]\n",
      "Training Epoch [101/120]: 100%|████████████████████████████████████████| 1/1 [00:00<00:00,  9.09it/s, curr_train_loss=0.01071655, val_loss=0.98086303]\n",
      "Validation Epoch [101/120]: 100%|██████████████████████████████████████████████████████████████████| 1/1 [00:00<00:00,  9.52it/s, val_loss=0.98122561]\n",
      "Training Epoch [102/120]: 100%|████████████████████████████████████████| 1/1 [00:00<00:00,  9.14it/s, curr_train_loss=0.01052408, val_loss=0.98122561]\n",
      "Validation Epoch [102/120]: 100%|██████████████████████████████████████████████████████████████████| 1/1 [00:00<00:00,  9.36it/s, val_loss=0.98159236]\n",
      "Training Epoch [103/120]: 100%|████████████████████████████████████████| 1/1 [00:00<00:00,  9.24it/s, curr_train_loss=0.01033740, val_loss=0.98159236]\n",
      "Validation Epoch [103/120]: 100%|██████████████████████████████████████████████████████████████████| 1/1 [00:00<00:00,  9.42it/s, val_loss=0.98195684]\n",
      "Training Epoch [104/120]: 100%|████████████████████████████████████████| 1/1 [00:00<00:00,  9.15it/s, curr_train_loss=0.01015618, val_loss=0.98195684]\n",
      "Validation Epoch [104/120]: 100%|██████████████████████████████████████████████████████████████████| 1/1 [00:00<00:00,  9.35it/s, val_loss=0.98232162]\n",
      "Training Epoch [105/120]: 100%|████████████████████████████████████████| 1/1 [00:00<00:00,  9.18it/s, curr_train_loss=0.00998024, val_loss=0.98232162]\n",
      "Validation Epoch [105/120]: 100%|██████████████████████████████████████████████████████████████████| 1/1 [00:00<00:00,  9.45it/s, val_loss=0.98268282]\n",
      "Training Epoch [106/120]: 100%|████████████████████████████████████████| 1/1 [00:00<00:00,  9.27it/s, curr_train_loss=0.00980931, val_loss=0.98268282]\n",
      "Validation Epoch [106/120]: 100%|██████████████████████████████████████████████████████████████████| 1/1 [00:00<00:00,  9.49it/s, val_loss=0.98304117]\n",
      "Training Epoch [107/120]: 100%|████████████████████████████████████████| 1/1 [00:00<00:00,  9.27it/s, curr_train_loss=0.00964333, val_loss=0.98304117]\n",
      "Validation Epoch [107/120]: 100%|██████████████████████████████████████████████████████████████████| 1/1 [00:00<00:00,  9.41it/s, val_loss=0.98341078]\n",
      "Training Epoch [108/120]: 100%|████████████████████████████████████████| 1/1 [00:00<00:00,  9.23it/s, curr_train_loss=0.00948212, val_loss=0.98341078]\n",
      "Validation Epoch [108/120]: 100%|██████████████████████████████████████████████████████████████████| 1/1 [00:00<00:00,  9.42it/s, val_loss=0.98378909]\n",
      "Training Epoch [109/120]: 100%|████████████████████████████████████████| 1/1 [00:00<00:00,  9.26it/s, curr_train_loss=0.00932536, val_loss=0.98378909]\n",
      "Validation Epoch [109/120]: 100%|██████████████████████████████████████████████████████████████████| 1/1 [00:00<00:00,  9.26it/s, val_loss=0.98417139]\n",
      "Training Epoch [110/120]: 100%|████████████████████████████████████████| 1/1 [00:00<00:00,  9.27it/s, curr_train_loss=0.00917287, val_loss=0.98417139]\n",
      "Validation Epoch [110/120]: 100%|██████████████████████████████████████████████████████████████████| 1/1 [00:00<00:00,  9.35it/s, val_loss=0.98455638]\n",
      "Training Epoch [111/120]: 100%|████████████████████████████████████████| 1/1 [00:00<00:00,  9.14it/s, curr_train_loss=0.00902467, val_loss=0.98455638]\n",
      "Validation Epoch [111/120]: 100%|██████████████████████████████████████████████████████████████████| 1/1 [00:00<00:00,  9.42it/s, val_loss=0.98493379]\n",
      "Training Epoch [112/120]: 100%|████████████████████████████████████████| 1/1 [00:00<00:00,  9.20it/s, curr_train_loss=0.00888039, val_loss=0.98493379]\n",
      "Validation Epoch [112/120]: 100%|██████████████████████████████████████████████████████████████████| 1/1 [00:00<00:00,  9.44it/s, val_loss=0.98530877]\n",
      "Training Epoch [113/120]: 100%|████████████████████████████████████████| 1/1 [00:00<00:00,  9.26it/s, curr_train_loss=0.00873992, val_loss=0.98530877]\n",
      "Validation Epoch [113/120]: 100%|██████████████████████████████████████████████████████████████████| 1/1 [00:00<00:00,  9.40it/s, val_loss=0.98568255]\n",
      "Training Epoch [114/120]: 100%|████████████████████████████████████████| 1/1 [00:00<00:00,  9.26it/s, curr_train_loss=0.00860312, val_loss=0.98568255]\n",
      "Validation Epoch [114/120]: 100%|██████████████████████████████████████████████████████████████████| 1/1 [00:00<00:00,  9.38it/s, val_loss=0.98606133]\n",
      "Training Epoch [115/120]: 100%|████████████████████████████████████████| 1/1 [00:00<00:00,  9.19it/s, curr_train_loss=0.00846994, val_loss=0.98606133]\n",
      "Validation Epoch [115/120]: 100%|██████████████████████████████████████████████████████████████████| 1/1 [00:00<00:00,  9.43it/s, val_loss=0.98644036]\n",
      "Training Epoch [116/120]: 100%|████████████████████████████████████████| 1/1 [00:00<00:00,  9.20it/s, curr_train_loss=0.00834007, val_loss=0.98644036]\n",
      "Validation Epoch [116/120]: 100%|██████████████████████████████████████████████████████████████████| 1/1 [00:00<00:00,  9.43it/s, val_loss=0.98682112]\n",
      "Training Epoch [117/120]: 100%|████████████████████████████████████████| 1/1 [00:00<00:00,  9.21it/s, curr_train_loss=0.00821344, val_loss=0.98682112]\n",
      "Validation Epoch [117/120]: 100%|██████████████████████████████████████████████████████████████████| 1/1 [00:00<00:00,  9.38it/s, val_loss=0.98719805]\n",
      "Training Epoch [118/120]: 100%|████████████████████████████████████████| 1/1 [00:00<00:00,  9.33it/s, curr_train_loss=0.00808989, val_loss=0.98719805]\n",
      "Validation Epoch [118/120]: 100%|██████████████████████████████████████████████████████████████████| 1/1 [00:00<00:00,  9.39it/s, val_loss=0.98757821]\n",
      "Training Epoch [119/120]: 100%|████████████████████████████████████████| 1/1 [00:00<00:00,  9.27it/s, curr_train_loss=0.00796930, val_loss=0.98757821]\n",
      "Validation Epoch [119/120]: 100%|██████████████████████████████████████████████████████████████████| 1/1 [00:00<00:00,  9.40it/s, val_loss=0.98796064]\n",
      "Training Epoch [120/120]: 100%|████████████████████████████████████████| 1/1 [00:00<00:00,  9.25it/s, curr_train_loss=0.00785158, val_loss=0.98796064]\n",
      "Validation Epoch [120/120]: 100%|██████████████████████████████████████████████████████████████████| 1/1 [00:00<00:00,  9.42it/s, val_loss=0.98834121]"
     ]
    },
    {
     "name": "stdout",
     "output_type": "stream",
     "text": [
      "Finished training!\n"
     ]
    },
    {
     "name": "stderr",
     "output_type": "stream",
     "text": [
      "\n"
     ]
    }
   ],
   "source": [
    "\n",
    "# Create a tensorboard logger.\n",
    "# NOTE: In order to see the logs, run the following command in the terminal: tensorboard --logdir=./\n",
    "# Also, in order to reset the logs, delete the logs folder MANUALLY.\n",
    "# Pay attention that if you run this cell mutltiple times, the pretrained_encoder\n",
    "# is not reset, and will keep training from where it stopped. Thus, it could overfit.\n",
    "\n",
    "path = os.path.join('logs', 'pretrained_cls_logs')\n",
    "num_of_runs = len(os.listdir(path)) if os.path.exists(path) else 0\n",
    "path = os.path.join(path, f'run_{num_of_runs + 1}')\n",
    "tb_logger = SummaryWriter(path)\n",
    "\n",
    "batch_size = hparams.get('batch_size', 16)\n",
    "labled_train_loader = torch.utils.data.DataLoader(train_100_dataset, batch_size=batch_size, shuffle=True)\n",
    "labled_val_loader = torch.utils.data.DataLoader(val_100_dataset, batch_size=batch_size, shuffle=False)\n",
    "\n",
    "epochs = hparams.get('epochs', 20)\n",
    "loss_func = nn.CrossEntropyLoss() # The loss function we use for classification.\n",
    "train_classifier(classifier_pretrained, labled_train_loader, labled_val_loader, loss_func, tb_logger, epochs=epochs, name='Pretrained')\n",
    "\n",
    "print(\"Finished training!\") "
   ]
  },
  {
   "attachments": {},
   "cell_type": "markdown",
   "metadata": {
    "id": "H-pm1MY_MNks"
   },
   "source": [
    "Let's have a look at the validation accuracy of the two different classifiers and compare them. And don't forget that you can also monitor your training in TensorBoard.\n",
    "\n",
    "We will only look at the test accuracy and compare our two classifiers with respect to that in the very end."
   ]
  },
  {
   "cell_type": "code",
   "execution_count": 123,
   "metadata": {
    "id": "-e5Bd9KLMNkt"
   },
   "outputs": [
    {
     "name": "stdout",
     "output_type": "stream",
     "text": [
      "Validation accuracy when training from scratch: \u001b[92m73.0\u001b[0m%\n",
      "Validation accuracy with pretraining: \u001b[92m71.0\u001b[0m%\n"
     ]
    }
   ],
   "source": [
    "val_acc_scracth = classifier.getAcc(labled_val_loader)[1]*100\n",
    "color = 'green' if val_acc_scracth > 55 else 'red'\n",
    "print(f\"Validation accuracy when training from scratch: {bcolors.colorize(color, val_acc_scracth)}%\")\n",
    "\n",
    "val_acc_pretrained = classifier_pretrained.getAcc(labled_val_loader)[1]*100\n",
    "color = 'green' if val_acc_pretrained > 55 else 'red'\n",
    "print(f\"Validation accuracy with pretraining: {bcolors.colorize(color, val_acc_pretrained)}%\")\n",
    "\n",
    "\n"
   ]
  },
  {
   "attachments": {},
   "cell_type": "markdown",
   "metadata": {
    "id": "zAp2OTyf4_5b"
   },
   "source": [
    "Now that everything is working, feel free to play around with different architectures. As you've seen, it's quite easy to define your model or do adpations there.\n",
    "\n",
    "To pass this submission, you will need to achieve an accuracy of **55%**."
   ]
  },
  {
   "attachments": {},
   "cell_type": "markdown",
   "metadata": {
    "id": "OmEYmRT-5S-e"
   },
   "source": [
    "# Save your model & Report Test Accuracy\n",
    "\n",
    "When you are finally done with your **hyperparameter tuning**, achieved **at least 55% validation accuracy** and are happy with your final model, you can save it here.\n",
    "\n",
    "Before that, please check again whether the number of parameters is below 5 Mio and the file size is below 20 MB.\n",
    "\n",
    "Once your final model is saved, we'll finally report the test accuracy."
   ]
  },
  {
   "cell_type": "code",
   "execution_count": 124,
   "metadata": {
    "id": "S69ETKxD5TcE",
    "scrolled": true
   },
   "outputs": [
    {
     "name": "stdout",
     "output_type": "stream",
     "text": [
      "Test accuracy when training from scratch: \u001b[92m68.0\u001b[0m%\n",
      "Test accuracy with pretraining: \u001b[92m68.0\u001b[0m%\n",
      "Validation Accuracy: \u001b[92m71.0\u001b[0m%\n",
      "# Parameters: Your model has \u001b[92m0.145\u001b[0m mio. params.\n",
      "Size: Great! Your model size is \u001b[92m1.2\u001b[0m MB and is less than 20 MB.\n",
      "Your model has been saved and is ready to be submitted.\n"
     ]
    }
   ],
   "source": [
    "from exercise_code.Util import test_and_save\n",
    "test_dl = torch.utils.data.DataLoader(test_100_dataset, batch_size=4, shuffle=False)\n",
    "\n",
    "test_acc = classifier.getAcc(test_dl)[1]*100\n",
    "color = 'green' if test_acc > 55 else 'red'\n",
    "print(f\"Test accuracy when training from scratch: {bcolors.colorize(color, test_acc)}%\")\n",
    "\n",
    "test_acc = classifier_pretrained.getAcc(test_dl)[1]*100\n",
    "color = 'green' if test_acc > 55 else 'red'\n",
    "print(f\"Test accuracy with pretraining: {bcolors.colorize(color, test_acc)}%\")\n",
    "\n",
    "test_and_save(classifier_pretrained, labled_val_loader, test_dl)"
   ]
  },
  {
   "cell_type": "code",
   "execution_count": 125,
   "metadata": {
    "id": "enZCnGL6MNkt"
   },
   "outputs": [
    {
     "name": "stdout",
     "output_type": "stream",
     "text": [
      "relevant folders: ['exercise_code', 'models']\n",
      "notebooks files: ['1_Autoencoder.ipynb', 'Optional-BatchNormalization_Dropout.ipynb']\n",
      "Adding folder exercise_code\n",
      "Adding folder models\n",
      "Adding notebook 1_Autoencoder.ipynb\n",
      "Adding notebook Optional-BatchNormalization_Dropout.ipynb\n",
      "Zipping successful! Zip is stored under: d:\\Stuff\\FAKS\\TUM\\I2DL\\output\\exercise_08.zip\n"
     ]
    }
   ],
   "source": [
    "# Now zip the folder for upload\n",
    "from exercise_code.submit import submit_exercise\n",
    "\n",
    "submit_exercise('../output/exercise_08')"
   ]
  },
  {
   "attachments": {},
   "cell_type": "markdown",
   "metadata": {
    "id": "7fuo3Tf9MNku",
    "pycharm": {
     "name": "#%% md\n"
    }
   },
   "source": [
    "Congratulations on completing your first autoencoder and successfully transferring the weights to a classifier! It's remarkable how much easier this process becomes with the power of PyTorch, compared to working with plain NumPy, right?\n",
    "\n",
    "To complete the exercise, please submit your final model to [our submission portal](https://i2dl.vc.in.tum.de/) - you should be already familiar with the submission procedure. Next, it is time to get started with some more complex neural networks and tasks in the upcoming exercises. See you next week!\n",
    "\n",
    "# Submission Goals\n",
    "\n",
    "- Goal: Successfully implement a fully connected autoencoder for MNIST with Pytorch and transfer the encoder weights to a classifier.\n",
    "\n",
    "- Passing Criteria: There are no unit tests that check specific components of your code. The only thing that's required to pass the submission, is your model to reach at least **55% accuracy** on __our__ test dataset. The submission system will show you a number between 0 and 100 which corresponds to your accuracy.\n",
    "\n",
    "\n",
    "- You can make **$\\infty$** submissions until the deadline. Your __best submission__ will be considered for the bonus."
   ]
  }
 ],
 "metadata": {
  "accelerator": "GPU",
  "colab": {
   "provenance": []
  },
  "kernelspec": {
   "display_name": "i2dl",
   "language": "python",
   "name": "python3"
  },
  "language_info": {
   "codemirror_mode": {
    "name": "ipython",
    "version": 3
   },
   "file_extension": ".py",
   "mimetype": "text/x-python",
   "name": "python",
   "nbconvert_exporter": "python",
   "pygments_lexer": "ipython3",
   "version": "3.11.11"
  }
 },
 "nbformat": 4,
 "nbformat_minor": 1
}
